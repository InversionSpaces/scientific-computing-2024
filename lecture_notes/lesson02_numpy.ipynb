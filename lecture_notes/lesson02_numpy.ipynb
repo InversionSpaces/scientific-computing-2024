{
 "cells": [
  {
   "cell_type": "markdown",
   "id": "f3f94fd2",
   "metadata": {},
   "source": [
    "## Lesson 2. NumPy\n",
    "[Software, Data and\n",
    "Technology](https://lp.jetbrains.com/software-data-and-technology-constructor-university/) bachelor program at [Constructor\n",
    "University](https://constructor.university) (Bremen).\n",
    "\n",
    "*Ilya Schurov, 2024*\n",
    "\n",
    "*The explanations are mostly auto-generated using Claude Sonnet-3.5 model*\n",
    "\n",
    "NumPy is a fundamental package for scientific computing in Python. It provides support for large, multi-dimensional arrays and matrices, along with a collection of mathematical functions to operate on these arrays efficiently.\n"
   ]
  },
  {
   "cell_type": "code",
   "execution_count": 1,
   "id": "a4d73fa1",
   "metadata": {},
   "outputs": [],
   "source": [
    "import numpy as np \n",
    "# the usual way to import numpy"
   ]
  },
  {
   "cell_type": "markdown",
   "id": "02d88c1a",
   "metadata": {},
   "source": [
    "### One-dimensional arrays"
   ]
  },
  {
   "cell_type": "code",
   "execution_count": 2,
   "id": "122f5a1a",
   "metadata": {},
   "outputs": [],
   "source": [
    "arr = np.array([1, 2, 3, 4, 5])"
   ]
  },
  {
   "cell_type": "markdown",
   "id": "6aab08b4",
   "metadata": {},
   "source": [
    "Here, we create a NumPy array using the `np.array()` function. Unlike Python lists, NumPy arrays are homogeneous, meaning all elements must be of the same data type. This allows for more efficient storage and computation.\n",
    "\n",
    "NumPy arrays are instances of the `ndarray` class, which stands for N-dimensional array. These arrays can be one-dimensional (like in this example), two-dimensional (matrices), or have even more dimensions."
   ]
  },
  {
   "cell_type": "code",
   "execution_count": 3,
   "id": "d134f769",
   "metadata": {},
   "outputs": [
    {
     "data": {
      "text/plain": [
       "numpy.ndarray"
      ]
     },
     "execution_count": 3,
     "metadata": {},
     "output_type": "execute_result"
    }
   ],
   "source": [
    "type(arr)"
   ]
  },
  {
   "cell_type": "markdown",
   "id": "ddae464b",
   "metadata": {},
   "source": [
    "The `type()` function confirms that our `arr` variable is indeed a NumPy array (`numpy.ndarray`). This distinction from regular Python lists is crucial, as NumPy arrays support vectorized operations, which can significantly speed up calculations when working with large datasets.\n",
    "\n",
    "Note that the constructor `np.ndarray` is considered low-level and rarely used in practice. The usual way to create an array is to use `np.array` function or other specialized functions like `np.empty`, `np.zeros`, etc."
   ]
  },
  {
   "cell_type": "code",
   "execution_count": 4,
   "id": "b7a28d02",
   "metadata": {},
   "outputs": [
    {
     "data": {
      "text/plain": [
       "array([1, 2, 3, 4, 5])"
      ]
     },
     "execution_count": 4,
     "metadata": {},
     "output_type": "execute_result"
    }
   ],
   "source": [
    "arr"
   ]
  },
  {
   "cell_type": "markdown",
   "id": "0d484bae",
   "metadata": {},
   "source": [
    "When we print the array, we see its contents enclosed in square brackets, similar to a Python list. However, it's prefaced with `array`, indicating it's a NumPy array. This representation helps distinguish NumPy arrays from regular Python lists at a glance."
   ]
  },
  {
   "cell_type": "code",
   "execution_count": 5,
   "id": "e12719bd",
   "metadata": {},
   "outputs": [
    {
     "data": {
      "text/plain": [
       "3"
      ]
     },
     "execution_count": 5,
     "metadata": {},
     "output_type": "execute_result"
    }
   ],
   "source": [
    "arr[2]"
   ]
  },
  {
   "cell_type": "markdown",
   "id": "ed98d127",
   "metadata": {},
   "source": [
    "NumPy arrays use zero-based indexing, just like Python lists. Here, `arr[2]` returns the third element of the array. This familiar indexing system allows for easy transition from Python lists to NumPy arrays."
   ]
  },
  {
   "cell_type": "code",
   "execution_count": 6,
   "id": "463f49de",
   "metadata": {},
   "outputs": [
    {
     "name": "stdout",
     "output_type": "stream",
     "text": [
      "1\n",
      "2\n",
      "3\n",
      "4\n",
      "5\n"
     ]
    }
   ],
   "source": [
    "for number in arr:\n",
    "    print(number)"
   ]
  },
  {
   "cell_type": "markdown",
   "id": "8c1aac48",
   "metadata": {},
   "source": [
    "NumPy arrays can be iterated over using a standard Python `for` loop, just like regular lists. This demonstrates that while NumPy arrays have special properties for numerical operations, they still maintain compatibility with standard Python iteration techniques."
   ]
  },
  {
   "cell_type": "code",
   "execution_count": 7,
   "id": "c311ad53",
   "metadata": {},
   "outputs": [
    {
     "data": {
      "text/plain": [
       "dtype('int64')"
      ]
     },
     "execution_count": 7,
     "metadata": {},
     "output_type": "execute_result"
    }
   ],
   "source": [
    "arr.dtype"
   ]
  },
  {
   "cell_type": "markdown",
   "id": "dee689b3",
   "metadata": {},
   "source": [
    "The `dtype` attribute of a NumPy array reveals the data type of its elements. Here, `int64` indicates 64-bit integer values. NumPy uses its own set of data types, which are optimized for numerical operations and memory efficiency. This specification allows for more precise control over memory usage and computational performance compared to Python's built-in types."
   ]
  },
  {
   "cell_type": "markdown",
   "id": "076a18ca",
   "metadata": {},
   "source": [
    "Like lists, arrays are mutable: you can change the value of an element using assignment:"
   ]
  },
  {
   "cell_type": "code",
   "execution_count": 8,
   "id": "603e999b",
   "metadata": {},
   "outputs": [
    {
     "data": {
      "text/plain": [
       "array([123,   2,   3,   4,   5])"
      ]
     },
     "execution_count": 8,
     "metadata": {},
     "output_type": "execute_result"
    }
   ],
   "source": [
    "arr[0] = 123\n",
    "arr"
   ]
  },
  {
   "cell_type": "markdown",
   "id": "ebbfcf1e",
   "metadata": {},
   "source": [
    "However, you cannot change the *size* of an array, e.g. you cannot append an element:"
   ]
  },
  {
   "cell_type": "code",
   "execution_count": 9,
   "id": "2a6adc1a",
   "metadata": {},
   "outputs": [
    {
     "ename": "AttributeError",
     "evalue": "'numpy.ndarray' object has no attribute 'append'",
     "output_type": "error",
     "traceback": [
      "\u001b[0;31m---------------------------------------------------------------------------\u001b[0m",
      "\u001b[0;31mAttributeError\u001b[0m                            Traceback (most recent call last)",
      "Cell \u001b[0;32mIn[9], line 1\u001b[0m\n\u001b[0;32m----> 1\u001b[0m arr\u001b[38;5;241m.\u001b[39mappend(\u001b[38;5;241m10\u001b[39m)\n",
      "\u001b[0;31mAttributeError\u001b[0m: 'numpy.ndarray' object has no attribute 'append'"
     ]
    }
   ],
   "source": [
    "arr.append(10)"
   ]
  },
  {
   "cell_type": "markdown",
   "id": "bdf23037",
   "metadata": {},
   "source": [
    "Unlike Python lists, NumPy arrays do not have an `append` method. This error highlights a key difference between NumPy arrays and Python lists. NumPy arrays have a fixed size after creation, which contributes to their efficiency in numerical computations. To add elements to a NumPy array, you would typically create a new array or use functions like `np.append()` or `np.concatenate()`."
   ]
  },
  {
   "cell_type": "code",
   "execution_count": 10,
   "id": "bc112110",
   "metadata": {},
   "outputs": [],
   "source": [
    "new_arr = np.append(arr, 100)"
   ]
  },
  {
   "cell_type": "markdown",
   "id": "1d931f93",
   "metadata": {},
   "source": [
    "The `np.append()` function adds a new element to the end of an array. It creates a new array `new_arr` by appending the value 100 to `arr`. This operation does not modify the original `arr`, but instead returns a new array with the additional element. As this operation needs to copy the whole array into new region of memory, it is not efficient and you generally should avoid it.\n",
    "\n",
    "What if you want to create a NumPy array in a way that in Python usually requires using `.append`? Let's consider the following example."
   ]
  },
  {
   "cell_type": "code",
   "execution_count": 13,
   "id": "b9aa31b4",
   "metadata": {
    "lines_to_next_cell": 1
   },
   "outputs": [],
   "source": [
    "def retrieve_data(i):\n",
    "    return i ** 2  # example function that mocks retrival of data"
   ]
  },
  {
   "cell_type": "code",
   "execution_count": 14,
   "id": "3c9a8849",
   "metadata": {},
   "outputs": [],
   "source": [
    "some_list = []\n",
    "for i in range(100):\n",
    "    some_list.append(retrieve_data(i))\n",
    "some_arr = np.array(some_list)"
   ]
  },
  {
   "cell_type": "markdown",
   "id": "7540b11c",
   "metadata": {},
   "source": [
    "This code demonstrates creating a NumPy array from computed data. The `retrieve_data` function calculates a value (in this case, the square of the input). A Python list `some_list` is populated with results from `retrieve_data` for values 0 to 99. Finally, `np.array()` converts this list into a NumPy array `some_arr`. This approach is useful when you need to perform complex calculations on each element before creating the array, or when working with data that isn't easily vectorized."
   ]
  },
  {
   "cell_type": "code",
   "execution_count": 26,
   "id": "fcf019d9",
   "metadata": {},
   "outputs": [],
   "source": [
    "some_arr = np.empty(200, dtype=np.int64)  # create \"empty\" array of size 100"
   ]
  },
  {
   "cell_type": "markdown",
   "id": "c0c93216",
   "metadata": {},
   "source": [
    "The `np.empty()` function creates an uninitialized array. It's faster than `np.zeros()` or `np.ones()`, but the array will contain arbitrary values. Here, we create an array of size 100 with 64-bit integer data type (`np.int64`). This is useful when you plan to fill the array with values immediately after creation and don't need it to be initialized with zeros or ones."
   ]
  },
  {
   "cell_type": "code",
   "execution_count": 27,
   "id": "d69eaa5f",
   "metadata": {},
   "outputs": [
    {
     "data": {
      "text/plain": [
       "array([              0,      4589930039,               0, 140332999454775,\n",
       "            4597269108,               1,              -1,      4589930944,\n",
       "            4589931072,     -4294967296, 140332999456504,      4597269108,\n",
       "           38654705665,               0,               5,      4589931968,\n",
       "           -4294967286, 140332999458536,      4597269108,     47244640257,\n",
       "                    56,              -1,      4294967306,     -4294967270,\n",
       "       140332999458936,      4597269108,     47244640257,             112,\n",
       "            4589933760,      4596522032,     -4294967270, 140332999459020,\n",
       "            4597269108,     47244640257,             168,               0,\n",
       "            4596522032,     -4294967276, 140332999459052,      4597269109,\n",
       "           47244640257,             224,               0,      4596522032,\n",
       "           -4294967270, 140332999459120,      4597269109,     30064771073,\n",
       "                   280,      4597269108,               0,               0,\n",
       "                     0,               0,               0,               0,\n",
       "                     0,               0,               0,      4597269108,\n",
       "                     0,               0,               0,               0,\n",
       "                     0,               0,               0,               0,\n",
       "                     0,               0,               0,               0,\n",
       "                     0,               0,               0,      4597269108,\n",
       "                     0,               0,               0,     -4294967270,\n",
       "       140332999459068,      4597269109,      8589934593,             336,\n",
       "            4597269108,               0,               0,               0,\n",
       "                     0,               0,               0,               0,\n",
       "                     0,               0,      4597269108,               0,\n",
       "                     0,               0,               0,               0,\n",
       "                     0,               0,               0,               0,\n",
       "                     0,               0,               0,               0,\n",
       "                     0,               0,      4597269108,               1,\n",
       "            4596522032,     -4294967270, 140332999459120,      4597269110,\n",
       "           38654705665,             616,      4597269108,               0,\n",
       "                     0,               0,               0,               0,\n",
       "                     0,               0,               0,               0,\n",
       "            4597269108,               0,               0,               0,\n",
       "                     0,               0,               0,               0,\n",
       "                     0,               0,               0,               0,\n",
       "                     0,               0,               0,               0,\n",
       "            4597269108,      4597269109,               0,               0,\n",
       "           -4294967270, 140332999459068,      4597269110,      8589934593,\n",
       "                   888,      4597269108,               0,               0,\n",
       "                     0,               0,               0,               0,\n",
       "                     0,               0,               0,      4597269108,\n",
       "                     0,               0,               0,               0,\n",
       "                     0,               0,               0,               0,\n",
       "                     0,               0,               0,               0,\n",
       "                     0,               0,               0,      4597269108,\n",
       "                     2,      4596522032,     -4294967270, 140332999459120,\n",
       "            4597269111,     38654705665,            1168,      4597269108,\n",
       "                     0,               0, 140332999459120,               0,\n",
       "           12884901889,            1440,               0,               0,\n",
       "                     0,      4597269108,               0,               0])"
      ]
     },
     "execution_count": 27,
     "metadata": {},
     "output_type": "execute_result"
    }
   ],
   "source": [
    "some_arr"
   ]
  },
  {
   "cell_type": "markdown",
   "id": "31947103",
   "metadata": {},
   "source": [
    "The values contained in this array can be arbitrary. For example, it can reuse recently freed memory."
   ]
  },
  {
   "cell_type": "code",
   "execution_count": 28,
   "id": "c0b7ac1b",
   "metadata": {},
   "outputs": [],
   "source": [
    "for i in range(200):\n",
    "    some_arr[i] = retrieve_data(i)"
   ]
  },
  {
   "cell_type": "markdown",
   "id": "857310c8",
   "metadata": {},
   "source": [
    "The code below demonstrates array creation, indexing, and modification in NumPy."
   ]
  },
  {
   "cell_type": "code",
   "execution_count": 29,
   "id": "54c950dc",
   "metadata": {},
   "outputs": [
    {
     "data": {
      "text/plain": [
       "array([    0,     1,     4,     9,    16,    25,    36,    49,    64,\n",
       "          81,   100,   121,   144,   169,   196,   225,   256,   289,\n",
       "         324,   361,   400,   441,   484,   529,   576,   625,   676,\n",
       "         729,   784,   841,   900,   961,  1024,  1089,  1156,  1225,\n",
       "        1296,  1369,  1444,  1521,  1600,  1681,  1764,  1849,  1936,\n",
       "        2025,  2116,  2209,  2304,  2401,  2500,  2601,  2704,  2809,\n",
       "        2916,  3025,  3136,  3249,  3364,  3481,  3600,  3721,  3844,\n",
       "        3969,  4096,  4225,  4356,  4489,  4624,  4761,  4900,  5041,\n",
       "        5184,  5329,  5476,  5625,  5776,  5929,  6084,  6241,  6400,\n",
       "        6561,  6724,  6889,  7056,  7225,  7396,  7569,  7744,  7921,\n",
       "        8100,  8281,  8464,  8649,  8836,  9025,  9216,  9409,  9604,\n",
       "        9801, 10000, 10201, 10404, 10609, 10816, 11025, 11236, 11449,\n",
       "       11664, 11881, 12100, 12321, 12544, 12769, 12996, 13225, 13456,\n",
       "       13689, 13924, 14161, 14400, 14641, 14884, 15129, 15376, 15625,\n",
       "       15876, 16129, 16384, 16641, 16900, 17161, 17424, 17689, 17956,\n",
       "       18225, 18496, 18769, 19044, 19321, 19600, 19881, 20164, 20449,\n",
       "       20736, 21025, 21316, 21609, 21904, 22201, 22500, 22801, 23104,\n",
       "       23409, 23716, 24025, 24336, 24649, 24964, 25281, 25600, 25921,\n",
       "       26244, 26569, 26896, 27225, 27556, 27889, 28224, 28561, 28900,\n",
       "       29241, 29584, 29929, 30276, 30625, 30976, 31329, 31684, 32041,\n",
       "       32400, 32761, 33124, 33489, 33856, 34225, 34596, 34969, 35344,\n",
       "       35721, 36100, 36481, 36864, 37249, 37636, 38025, 38416, 38809,\n",
       "       39204, 39601])"
      ]
     },
     "execution_count": 29,
     "metadata": {},
     "output_type": "execute_result"
    }
   ],
   "source": [
    "some_arr"
   ]
  },
  {
   "cell_type": "markdown",
   "id": "d063895d",
   "metadata": {},
   "source": [
    "### Array indexing\n",
    "#### Slices"
   ]
  },
  {
   "cell_type": "code",
   "execution_count": 30,
   "id": "591b2387",
   "metadata": {},
   "outputs": [],
   "source": [
    "numbers = np.array([0, 10, 20, 30, 40, 50])"
   ]
  },
  {
   "cell_type": "code",
   "execution_count": 31,
   "id": "030ed46d",
   "metadata": {},
   "outputs": [],
   "source": [
    "selected_numbers = numbers[2:4]"
   ]
  },
  {
   "cell_type": "markdown",
   "id": "1ac124fb",
   "metadata": {},
   "source": [
    "This line demonstrates array slicing in NumPy. It creates a new array `selected_numbers` containing elements from index 2 (inclusive) to index 4 (exclusive) of the `numbers` array. In Python, slicing follows the pattern `start:stop`, where `start` is included and `stop` is excluded. So, `selected_numbers` will contain two elements from `numbers`."
   ]
  },
  {
   "cell_type": "code",
   "execution_count": 32,
   "id": "4b0bb7d8",
   "metadata": {},
   "outputs": [],
   "source": [
    "selected_numbers[0] = 2000"
   ]
  },
  {
   "cell_type": "markdown",
   "id": "9b9221d9",
   "metadata": {},
   "source": [
    "This line modifies the first element of the `selected_numbers` array, setting it to 2000. It's important to note that this change affects the original `numbers` array as well, because `selected_numbers` is a view of `numbers`, not a copy."
   ]
  },
  {
   "cell_type": "code",
   "execution_count": 33,
   "id": "e5f3fc2c",
   "metadata": {},
   "outputs": [
    {
     "data": {
      "text/plain": [
       "array([2000,   30])"
      ]
     },
     "execution_count": 33,
     "metadata": {},
     "output_type": "execute_result"
    }
   ],
   "source": [
    "selected_numbers"
   ]
  },
  {
   "cell_type": "code",
   "execution_count": 34,
   "id": "9d6846fc",
   "metadata": {},
   "outputs": [
    {
     "data": {
      "text/plain": [
       "True"
      ]
     },
     "execution_count": 34,
     "metadata": {},
     "output_type": "execute_result"
    }
   ],
   "source": [
    "selected_numbers.base is numbers"
   ]
  },
  {
   "cell_type": "markdown",
   "id": "ed521c92",
   "metadata": {},
   "source": [
    "The `base` attribute of a NumPy array returns the base object if the array is a view. Here, we check if `numbers` is the base of `selected_numbers`. The result `True` confirms that `selected_numbers` is a view of `numbers`, not a separate copy. This means that `selected_numbers` shares the same memory as `numbers`, and any changes to `selected_numbers` will affect `numbers` as well."
   ]
  },
  {
   "cell_type": "code",
   "execution_count": 35,
   "id": "a7fbab2b",
   "metadata": {},
   "outputs": [],
   "source": [
    "copy_selected_numbers = selected_numbers.copy()"
   ]
  },
  {
   "cell_type": "markdown",
   "id": "935c3f28",
   "metadata": {},
   "source": [
    "This line creates a new array `copy_selected_numbers` by making a deep copy of `selected_numbers` using the `copy()` method. Unlike `selected_numbers`, which is a view of `numbers`, `copy_selected_numbers` is an independent array. Any changes made to `copy_selected_numbers` will not affect `selected_numbers` or `numbers`."
   ]
  },
  {
   "cell_type": "code",
   "execution_count": 36,
   "id": "d3045d80",
   "metadata": {},
   "outputs": [
    {
     "data": {
      "text/plain": [
       "True"
      ]
     },
     "execution_count": 36,
     "metadata": {},
     "output_type": "execute_result"
    }
   ],
   "source": [
    "copy_selected_numbers.base is None"
   ]
  },
  {
   "cell_type": "markdown",
   "id": "1bb58208",
   "metadata": {},
   "source": [
    "The `base` attribute of `copy_selected_numbers` is `None`, confirming that it is indeed an independent array and not a view of any other array. In NumPy, the `base` attribute points to the original object if an array is a view. For independent arrays, it is `None`."
   ]
  },
  {
   "cell_type": "code",
   "execution_count": 37,
   "id": "91379996",
   "metadata": {},
   "outputs": [
    {
     "data": {
      "text/plain": [
       "array([   0,   10, 2000,   30,   40,   50])"
      ]
     },
     "execution_count": 37,
     "metadata": {},
     "output_type": "execute_result"
    }
   ],
   "source": [
    "numbers"
   ]
  },
  {
   "cell_type": "markdown",
   "id": "af605488",
   "metadata": {},
   "source": [
    "This output displays the current state of the `numbers` array. The value 2000 is still present, demonstrating that changes made to a view (like `selected_numbers`) affect the original array. This behavior is specific to NumPy arrays and differs from regular Python lists."
   ]
  },
  {
   "cell_type": "code",
   "execution_count": 38,
   "id": "167284f0",
   "metadata": {},
   "outputs": [
    {
     "data": {
      "text/plain": [
       "numpy.ndarray"
      ]
     },
     "execution_count": 38,
     "metadata": {},
     "output_type": "execute_result"
    }
   ],
   "source": [
    "type(selected_numbers)"
   ]
  },
  {
   "cell_type": "markdown",
   "id": "035bceb6",
   "metadata": {},
   "source": [
    "The `base` attribute of a NumPy array is used to determine if an array is a view of another array or if it's an independent array. This is particularly useful when working with large datasets and memory management."
   ]
  },
  {
   "cell_type": "code",
   "execution_count": 39,
   "id": "2142abd7",
   "metadata": {},
   "outputs": [
    {
     "data": {
      "text/plain": [
       "array([   0,   10, 2000,   30,   40,   50])"
      ]
     },
     "execution_count": 39,
     "metadata": {},
     "output_type": "execute_result"
    }
   ],
   "source": [
    "selected_numbers.base  # selected_number is a view"
   ]
  },
  {
   "cell_type": "markdown",
   "id": "1d3d9558",
   "metadata": {},
   "source": [
    "NumPy arrays can be either original arrays or views of other arrays. We can check this using the `base` attribute."
   ]
  },
  {
   "cell_type": "code",
   "execution_count": 40,
   "id": "a6dcc41f",
   "metadata": {},
   "outputs": [
    {
     "data": {
      "text/plain": [
       "True"
      ]
     },
     "execution_count": 40,
     "metadata": {},
     "output_type": "execute_result"
    }
   ],
   "source": [
    "numbers.base is None  # numbers is not a view"
   ]
  },
  {
   "cell_type": "markdown",
   "id": "f71c9594",
   "metadata": {},
   "source": [
    "When `base` is `None`, it indicates that the array is not a view but an original array. This confirms that `numbers` is the original array with its own memory allocation."
   ]
  },
  {
   "cell_type": "code",
   "execution_count": 41,
   "id": "07cf12f8",
   "metadata": {},
   "outputs": [],
   "source": [
    "new_selected_numbers = numbers[::2]"
   ]
  },
  {
   "cell_type": "markdown",
   "id": "d38f7e83",
   "metadata": {},
   "source": [
    "The line `new_selected_numbers = numbers[::2]` creates a new view of the `numbers` array, selecting every second element. This is an example of array slicing in NumPy, which creates a view by default. Views share memory with the original array, allowing for efficient memory usage."
   ]
  },
  {
   "cell_type": "code",
   "execution_count": 42,
   "id": "2b22467f",
   "metadata": {},
   "outputs": [],
   "source": [
    "new_selected_numbers[2] = 40000"
   ]
  },
  {
   "cell_type": "code",
   "execution_count": 43,
   "id": "2eaaeb12",
   "metadata": {},
   "outputs": [
    {
     "data": {
      "text/plain": [
       "array([    0,    10,  2000,    30, 40000,    50])"
      ]
     },
     "execution_count": 43,
     "metadata": {},
     "output_type": "execute_result"
    }
   ],
   "source": [
    "numbers"
   ]
  },
  {
   "cell_type": "markdown",
   "id": "61d86d12",
   "metadata": {},
   "source": [
    "Modifying `new_selected_numbers` also changes the original `numbers` array because they share the same memory. The change in `new_selected_numbers[2]` is reflected in `numbers[4]`. This behavior demonstrates that NumPy views are not copies but rather different ways of accessing the same underlying data."
   ]
  },
  {
   "cell_type": "markdown",
   "id": "635ffc7b",
   "metadata": {},
   "source": [
    "#### Fancy indexing"
   ]
  },
  {
   "cell_type": "code",
   "execution_count": 44,
   "id": "593686b2",
   "metadata": {},
   "outputs": [],
   "source": [
    "numbers = np.array([0, 10, 20, 30, 40, 50])"
   ]
  },
  {
   "cell_type": "markdown",
   "id": "eb355247",
   "metadata": {},
   "source": [
    "Here, we reset the `numbers` array to its original values using `np.array()`. This creates a new array object, breaking the connection with any previous views or modifications."
   ]
  },
  {
   "cell_type": "markdown",
   "id": "36c356c0",
   "metadata": {},
   "source": [
    "Now, let's select specific elements from the `numbers` array using integer indexing."
   ]
  },
  {
   "cell_type": "code",
   "execution_count": 45,
   "id": "6fc4237a",
   "metadata": {},
   "outputs": [],
   "source": [
    "selected_numbers = numbers[[2, 3, 5]]"
   ]
  },
  {
   "cell_type": "markdown",
   "id": "a237ea50",
   "metadata": {},
   "source": [
    "The line above creates a new array `selected_numbers` containing elements at indices 2, 3, and 5 from the `numbers` array. This technique is called \"fancy indexing\" in NumPy, allowing us to select multiple elements at once using an array of indices."
   ]
  },
  {
   "cell_type": "code",
   "execution_count": 46,
   "id": "b6882450",
   "metadata": {},
   "outputs": [],
   "source": [
    "selected_numbers[0] = 2000"
   ]
  },
  {
   "cell_type": "markdown",
   "id": "cd4ef21f",
   "metadata": {},
   "source": [
    "Here, we modify the first element of `selected_numbers`. This operation does not affect the original `numbers` array because `selected_numbers` is a copy, not a view. When using fancy indexing, NumPy always returns a copy of the data."
   ]
  },
  {
   "cell_type": "code",
   "execution_count": 47,
   "id": "33ad4283",
   "metadata": {},
   "outputs": [
    {
     "data": {
      "text/plain": [
       "True"
      ]
     },
     "execution_count": 47,
     "metadata": {},
     "output_type": "execute_result"
    }
   ],
   "source": [
    "selected_numbers.base is None"
   ]
  },
  {
   "cell_type": "markdown",
   "id": "e0bae0b3",
   "metadata": {},
   "source": [
    "The `base` attribute of a NumPy array refers to the base object if the array is a view. If `base` is `None`, it means the array owns its data. This line checks if `selected_numbers` is indeed a copy (not a view) of the original data, which is true in this case due to the fancy indexing used to create it.\n",
    "\n",
    "The result of this operation will be `True`, confirming that `selected_numbers` is a separate copy of the data."
   ]
  },
  {
   "cell_type": "code",
   "execution_count": 48,
   "id": "ef53bade",
   "metadata": {},
   "outputs": [
    {
     "data": {
      "text/plain": [
       "array([2000,   30,   50])"
      ]
     },
     "execution_count": 48,
     "metadata": {},
     "output_type": "execute_result"
    }
   ],
   "source": [
    "selected_numbers"
   ]
  },
  {
   "cell_type": "markdown",
   "id": "ba65f299",
   "metadata": {},
   "source": [
    "Here we can see that the first element of `selected_numbers` has been modified to 2000. This demonstrates that changes made to `selected_numbers` do not affect the original array from which it was created."
   ]
  },
  {
   "cell_type": "code",
   "execution_count": 49,
   "id": "b8060722",
   "metadata": {},
   "outputs": [
    {
     "data": {
      "text/plain": [
       "array([ 0, 10, 20, 30, 40, 50])"
      ]
     },
     "execution_count": 49,
     "metadata": {},
     "output_type": "execute_result"
    }
   ],
   "source": [
    "numbers"
   ]
  },
  {
   "cell_type": "markdown",
   "id": "957e4f5e",
   "metadata": {},
   "source": [
    "The original `numbers` array remains unchanged, confirming that modifying `selected_numbers` did not affect `numbers`. This behavior is due to the fact that fancy indexing in NumPy creates a copy of the data rather than a view."
   ]
  },
  {
   "cell_type": "markdown",
   "id": "853b413e",
   "metadata": {},
   "source": [
    "#### Boolean indexing"
   ]
  },
  {
   "cell_type": "code",
   "execution_count": 50,
   "id": "b8852383",
   "metadata": {},
   "outputs": [],
   "source": [
    "numbers = np.array([1, 2, 3, 8, 3, 2, 5, 6, 7, 10])"
   ]
  },
  {
   "cell_type": "markdown",
   "id": "2285c3a5",
   "metadata": {},
   "source": [
    "Here we create a new NumPy array `numbers` with integer values."
   ]
  },
  {
   "cell_type": "code",
   "execution_count": 51,
   "id": "febccb2b",
   "metadata": {},
   "outputs": [],
   "source": [
    "odd_numbers = numbers[numbers % 2 == 1]"
   ]
  },
  {
   "cell_type": "markdown",
   "id": "7006d8e4",
   "metadata": {},
   "source": [
    "This line demonstrates another fancy indexing in NumPy. It creates a new array `odd_numbers` by selecting elements from `numbers` where the condition `numbers % 2 == 1` is true. This condition selects all odd numbers from the original array."
   ]
  },
  {
   "cell_type": "code",
   "execution_count": 52,
   "id": "d82c1e36",
   "metadata": {},
   "outputs": [
    {
     "data": {
      "text/plain": [
       "array([ True, False,  True, False,  True, False,  True, False,  True,\n",
       "       False])"
      ]
     },
     "execution_count": 52,
     "metadata": {},
     "output_type": "execute_result"
    }
   ],
   "source": [
    "numbers % 2 == 1"
   ]
  },
  {
   "cell_type": "markdown",
   "id": "729ccda2",
   "metadata": {},
   "source": [
    "The modulo operation `% 2` is used to identify odd and even numbers. When a number is divided by 2, the remainder is 1 for odd numbers and 0 for even numbers. Comparing this result with 1 (`== 1`) creates a boolean array where `True` represents odd numbers and `False` represents even numbers. This boolean array can be used as a mask for selecting specific elements from an array.\n",
    "\n",
    "Is the new array view or copy? Let's check it!"
   ]
  },
  {
   "cell_type": "code",
   "execution_count": 53,
   "id": "70fbfcef",
   "metadata": {},
   "outputs": [],
   "source": [
    "odd_numbers[0] = 100"
   ]
  },
  {
   "cell_type": "markdown",
   "id": "06d117a5",
   "metadata": {},
   "source": [
    "Here we modify the first element of `odd_numbers`. This change does not affect the original `numbers` array, as `odd_numbers` is a new array created by fancy indexing, not a view of the original array."
   ]
  },
  {
   "cell_type": "code",
   "execution_count": 54,
   "id": "87e36585",
   "metadata": {},
   "outputs": [
    {
     "data": {
      "text/plain": [
       "array([ 1,  2,  3,  8,  3,  2,  5,  6,  7, 10])"
      ]
     },
     "execution_count": 54,
     "metadata": {},
     "output_type": "execute_result"
    }
   ],
   "source": [
    "numbers"
   ]
  },
  {
   "cell_type": "markdown",
   "id": "52acf251",
   "metadata": {},
   "source": [
    "The `numbers` array remains unchanged after modifying `odd_numbers`, confirming that fancy indexing creates a copy, not a view."
   ]
  },
  {
   "cell_type": "code",
   "execution_count": 55,
   "id": "ec70da31",
   "metadata": {},
   "outputs": [
    {
     "data": {
      "text/plain": [
       "True"
      ]
     },
     "execution_count": 55,
     "metadata": {},
     "output_type": "execute_result"
    }
   ],
   "source": [
    "odd_numbers.base is None"
   ]
  },
  {
   "cell_type": "markdown",
   "id": "f4929e3d",
   "metadata": {},
   "source": [
    "This line checks if `odd_numbers` has a base array. The result `True` indicates that `odd_numbers` is indeed a new array, not a view of another array. In NumPy, when an array has no base, it means it's a standalone array, not a view or slice of another array."
   ]
  },
  {
   "cell_type": "code",
   "execution_count": 56,
   "id": "2a2c8d4a",
   "metadata": {},
   "outputs": [
    {
     "data": {
      "text/plain": [
       "array([1, 0])"
      ]
     },
     "execution_count": 56,
     "metadata": {},
     "output_type": "execute_result"
    }
   ],
   "source": [
    "np.array([5, 1]) & np.array([3, 2])"
   ]
  },
  {
   "cell_type": "markdown",
   "id": "0f21695f",
   "metadata": {},
   "source": [
    "The `&` operator in NumPy performs a bitwise AND operation between two arrays element-wise. When used with boolean arrays, it effectively combines multiple conditions."
   ]
  },
  {
   "cell_type": "code",
   "execution_count": 57,
   "id": "9f3bd6a8",
   "metadata": {},
   "outputs": [
    {
     "data": {
      "text/plain": [
       "array([5, 7])"
      ]
     },
     "execution_count": 57,
     "metadata": {},
     "output_type": "execute_result"
    }
   ],
   "source": [
    "numbers[(numbers % 2 == 1) & (numbers > 3)]"
   ]
  },
  {
   "cell_type": "markdown",
   "id": "a8e5a36a",
   "metadata": {},
   "source": [
    "Let's break it down:"
   ]
  },
  {
   "cell_type": "code",
   "execution_count": 58,
   "id": "679c2d61",
   "metadata": {},
   "outputs": [
    {
     "data": {
      "text/plain": [
       "array([ True, False,  True, False,  True, False,  True, False,  True,\n",
       "       False])"
      ]
     },
     "execution_count": 58,
     "metadata": {},
     "output_type": "execute_result"
    }
   ],
   "source": [
    "(numbers % 2 == 1)"
   ]
  },
  {
   "cell_type": "markdown",
   "id": "05a1f0b2",
   "metadata": {},
   "source": [
    "This creates a boolean mask for odd numbers in the `numbers` array. The `%` operator performs element-wise modulo operation, and `== 1` checks for odd numbers."
   ]
  },
  {
   "cell_type": "code",
   "execution_count": 59,
   "id": "0cf1c8c0",
   "metadata": {},
   "outputs": [
    {
     "data": {
      "text/plain": [
       "array([False, False, False,  True, False, False,  True,  True,  True,\n",
       "        True])"
      ]
     },
     "execution_count": 59,
     "metadata": {},
     "output_type": "execute_result"
    }
   ],
   "source": [
    "(numbers > 3)"
   ]
  },
  {
   "cell_type": "code",
   "execution_count": 60,
   "id": "cb892df1",
   "metadata": {},
   "outputs": [
    {
     "data": {
      "text/plain": [
       "array([False, False, False, False, False, False,  True, False,  True,\n",
       "       False])"
      ]
     },
     "execution_count": 60,
     "metadata": {},
     "output_type": "execute_result"
    }
   ],
   "source": [
    "(numbers % 2 == 1) & (numbers > 3)"
   ]
  },
  {
   "cell_type": "markdown",
   "id": "eedbeccf",
   "metadata": {},
   "source": [
    "This creates a boolean mask for odd numbers greater than 3 in the `numbers` array. The `&` operator combines the two conditions, selecting elements that are both odd and greater than 3."
   ]
  },
  {
   "cell_type": "markdown",
   "id": "d27fbe0a",
   "metadata": {},
   "source": [
    "Note that we used `&` instead of `and`, as the latter wouldn't work:"
   ]
  },
  {
   "cell_type": "code",
   "execution_count": 61,
   "id": "6a18fe35",
   "metadata": {},
   "outputs": [
    {
     "ename": "ValueError",
     "evalue": "The truth value of an array with more than one element is ambiguous. Use a.any() or a.all()",
     "output_type": "error",
     "traceback": [
      "\u001b[0;31m---------------------------------------------------------------------------\u001b[0m",
      "\u001b[0;31mValueError\u001b[0m                                Traceback (most recent call last)",
      "Cell \u001b[0;32mIn[61], line 1\u001b[0m\n\u001b[0;32m----> 1\u001b[0m numbers[(numbers \u001b[38;5;241m%\u001b[39m \u001b[38;5;241m2\u001b[39m \u001b[38;5;241m==\u001b[39m \u001b[38;5;241m1\u001b[39m) \u001b[38;5;129;01mand\u001b[39;00m (numbers \u001b[38;5;241m>\u001b[39m \u001b[38;5;241m3\u001b[39m)]\n",
      "\u001b[0;31mValueError\u001b[0m: The truth value of an array with more than one element is ambiguous. Use a.any() or a.all()"
     ]
    }
   ],
   "source": [
    "numbers[(numbers % 2 == 1) and (numbers > 3)]"
   ]
  },
  {
   "cell_type": "markdown",
   "id": "d796fc55",
   "metadata": {},
   "source": [
    "Similarly, instead of `or` we have to use `|`"
   ]
  },
  {
   "cell_type": "code",
   "execution_count": 62,
   "id": "f44032eb",
   "metadata": {},
   "outputs": [
    {
     "data": {
      "text/plain": [
       "array([ 1,  3,  8,  3,  5,  6,  7, 10])"
      ]
     },
     "execution_count": 62,
     "metadata": {},
     "output_type": "execute_result"
    }
   ],
   "source": [
    "numbers[(numbers % 2 == 1) | (numbers > 3)]  # OR"
   ]
  },
  {
   "cell_type": "markdown",
   "id": "e0066bd1",
   "metadata": {},
   "source": [
    "In this example, we attempt to use boolean indexing to select elements from the `numbers` array that meet certain conditions. Note that parentheses around conditional expression are also important, as operation `|` have higher precedence. So, this expression:"
   ]
  },
  {
   "cell_type": "code",
   "execution_count": 63,
   "id": "f1aef348",
   "metadata": {},
   "outputs": [
    {
     "ename": "ValueError",
     "evalue": "The truth value of an array with more than one element is ambiguous. Use a.any() or a.all()",
     "output_type": "error",
     "traceback": [
      "\u001b[0;31m---------------------------------------------------------------------------\u001b[0m",
      "\u001b[0;31mValueError\u001b[0m                                Traceback (most recent call last)",
      "Cell \u001b[0;32mIn[63], line 1\u001b[0m\n\u001b[0;32m----> 1\u001b[0m numbers[numbers \u001b[38;5;241m%\u001b[39m \u001b[38;5;241m2\u001b[39m \u001b[38;5;241m==\u001b[39m \u001b[38;5;241m1\u001b[39m \u001b[38;5;241m|\u001b[39m numbers \u001b[38;5;241m>\u001b[39m \u001b[38;5;241m3\u001b[39m]\n",
      "\u001b[0;31mValueError\u001b[0m: The truth value of an array with more than one element is ambiguous. Use a.any() or a.all()"
     ]
    }
   ],
   "source": [
    "numbers[numbers % 2 == 1 | numbers > 3]  # OR"
   ]
  },
  {
   "cell_type": "markdown",
   "id": "ac04a90b",
   "metadata": {},
   "source": [
    "Is basically equivalent to this expression:"
   ]
  },
  {
   "cell_type": "code",
   "execution_count": 64,
   "id": "72efb782",
   "metadata": {},
   "outputs": [
    {
     "ename": "ValueError",
     "evalue": "The truth value of an array with more than one element is ambiguous. Use a.any() or a.all()",
     "output_type": "error",
     "traceback": [
      "\u001b[0;31m---------------------------------------------------------------------------\u001b[0m",
      "\u001b[0;31mValueError\u001b[0m                                Traceback (most recent call last)",
      "Cell \u001b[0;32mIn[64], line 1\u001b[0m\n\u001b[0;32m----> 1\u001b[0m numbers[numbers \u001b[38;5;241m%\u001b[39m \u001b[38;5;241m2\u001b[39m \u001b[38;5;241m==\u001b[39m (\u001b[38;5;241m1\u001b[39m \u001b[38;5;241m|\u001b[39m numbers) \u001b[38;5;241m>\u001b[39m \u001b[38;5;241m3\u001b[39m]\n",
      "\u001b[0;31mValueError\u001b[0m: The truth value of an array with more than one element is ambiguous. Use a.any() or a.all()"
     ]
    }
   ],
   "source": [
    "numbers[numbers % 2 == (1 | numbers) > 3]  # OR"
   ]
  },
  {
   "cell_type": "markdown",
   "id": "8ab0779b",
   "metadata": {},
   "source": [
    "Note that conditions can be used also with assignments. For example."
   ]
  },
  {
   "cell_type": "code",
   "execution_count": 65,
   "id": "2de03a1f",
   "metadata": {},
   "outputs": [],
   "source": [
    "numbers = np.array([1, 2, 3, 8, 3, 2, 5, 6, 7, 10])"
   ]
  },
  {
   "cell_type": "code",
   "execution_count": 66,
   "id": "51d2cf3b",
   "metadata": {},
   "outputs": [],
   "source": [
    "numbers[numbers > 5] = 5"
   ]
  },
  {
   "cell_type": "code",
   "execution_count": 67,
   "id": "b50fb26d",
   "metadata": {},
   "outputs": [
    {
     "data": {
      "text/plain": [
       "array([1, 2, 3, 5, 3, 2, 5, 5, 5, 5])"
      ]
     },
     "execution_count": 67,
     "metadata": {},
     "output_type": "execute_result"
    }
   ],
   "source": [
    "numbers"
   ]
  },
  {
   "cell_type": "markdown",
   "id": "3c8b182e",
   "metadata": {},
   "source": [
    "We see that all values of array that are greater than 5 were replaced by 5. \n",
    "This kind of conditional assignments can be used as a NumPy replacement of `if` logic.\n",
    "There is another way to achieve a similar goal, a function `np.where`, that works like `if-else`:"
   ]
  },
  {
   "cell_type": "code",
   "execution_count": 68,
   "id": "e1342d3a",
   "metadata": {},
   "outputs": [
    {
     "data": {
      "text/plain": [
       "array([-1, -1,  2, 10, -1,  4])"
      ]
     },
     "execution_count": 68,
     "metadata": {},
     "output_type": "execute_result"
    }
   ],
   "source": [
    "numbers = np.array([1, 3, 2, 10, 5, 4])\n",
    "new_numbers = np.where(numbers % 2 == 1, -1, numbers)\n",
    "new_numbers"
   ]
  },
  {
   "cell_type": "markdown",
   "id": "45ac2f4d",
   "metadata": {},
   "source": [
    "The `np.where()` function is used for element-wise conditional operations on arrays. It creates a new array based on a condition, replacing elements that meet the condition with one value and the rest with another.\n",
    "\n",
    "Note that we do not always need conditional operations explicitly. For example, replacing all numbers greater than 5 with 5 can be done using `np.minimum` function"
   ]
  },
  {
   "cell_type": "code",
   "execution_count": 69,
   "id": "6c0f01de",
   "metadata": {},
   "outputs": [
    {
     "data": {
      "text/plain": [
       "array([1, 2, 3, 5, 3, 2, 5, 5, 5, 5])"
      ]
     },
     "execution_count": 69,
     "metadata": {},
     "output_type": "execute_result"
    }
   ],
   "source": [
    "numbers = np.array([1, 2, 3, 8, 3, 2, 5, 6, 7, 10])\n",
    "np.minimum(numbers, 5)"
   ]
  },
  {
   "cell_type": "markdown",
   "id": "dad10e7c",
   "metadata": {},
   "source": [
    "`np.minimum` can also be used with two arrays, when it performs elementwise minimum."
   ]
  },
  {
   "cell_type": "code",
   "execution_count": 70,
   "id": "2c1c27e6",
   "metadata": {},
   "outputs": [
    {
     "data": {
      "text/plain": [
       "array([1, 2, 1, 4, 3])"
      ]
     },
     "execution_count": 70,
     "metadata": {},
     "output_type": "execute_result"
    }
   ],
   "source": [
    "np.minimum(np.array([1, 3, 2, 6, 5]),\n",
    "           np.array([3, 2, 1, 4, 3]))"
   ]
  },
  {
   "cell_type": "markdown",
   "id": "055b9503",
   "metadata": {},
   "source": [
    "Do not confuse `np.minimum` with `np.min`, that works differently:"
   ]
  },
  {
   "cell_type": "code",
   "execution_count": 71,
   "id": "54fbe310",
   "metadata": {},
   "outputs": [
    {
     "data": {
      "text/plain": [
       "1"
      ]
     },
     "execution_count": 71,
     "metadata": {},
     "output_type": "execute_result"
    }
   ],
   "source": [
    "np.min(np.array([1, 3, 2, 5, 4]))"
   ]
  },
  {
   "cell_type": "markdown",
   "id": "f1f546c5",
   "metadata": {},
   "source": [
    "The `np.min()` function returns the smallest value in the entire array. In this case, it reduces the array to a single scalar value, which is 1."
   ]
  },
  {
   "cell_type": "markdown",
   "id": "1f2484a5",
   "metadata": {},
   "source": [
    "### Multidimensional arrays"
   ]
  },
  {
   "cell_type": "markdown",
   "id": "3f2cb0db",
   "metadata": {},
   "source": [
    "So far we discussed one dimensional array, but the full glory of NumPy is in \n",
    "processing of multidimensional arrays.\n",
    "Let's create a 2D array."
   ]
  },
  {
   "cell_type": "code",
   "execution_count": 72,
   "id": "41c00b49",
   "metadata": {},
   "outputs": [],
   "source": [
    "two_dim_arr = np.array([[2, 4, 5], [1, 2, 3]])"
   ]
  },
  {
   "cell_type": "markdown",
   "id": "a97ff039",
   "metadata": {},
   "source": [
    "The `np.array()` function takes a nested list as input and creates a 2D NumPy array. Each inner list becomes a row in the resulting array."
   ]
  },
  {
   "cell_type": "code",
   "execution_count": 73,
   "id": "677ef301",
   "metadata": {},
   "outputs": [
    {
     "data": {
      "text/plain": [
       "array([[2, 4, 5],\n",
       "       [1, 2, 3]])"
      ]
     },
     "execution_count": 73,
     "metadata": {},
     "output_type": "execute_result"
    }
   ],
   "source": [
    "two_dim_arr"
   ]
  },
  {
   "cell_type": "markdown",
   "id": "d3ca2988",
   "metadata": {},
   "source": [
    "The output displays the 2D NumPy array. It's a 2x3 array, meaning it has 2 rows and 3 columns. NumPy presents 2D arrays in a matrix-like format for easy visualization. Each row is displayed on a separate line, with elements separated by spaces."
   ]
  },
  {
   "cell_type": "code",
   "execution_count": 74,
   "id": "844b3f71",
   "metadata": {},
   "outputs": [
    {
     "ename": "ValueError",
     "evalue": "setting an array element with a sequence. The requested array has an inhomogeneous shape after 1 dimensions. The detected shape was (2,) + inhomogeneous part.",
     "output_type": "error",
     "traceback": [
      "\u001b[0;31m---------------------------------------------------------------------------\u001b[0m",
      "\u001b[0;31mValueError\u001b[0m                                Traceback (most recent call last)",
      "Cell \u001b[0;32mIn[74], line 1\u001b[0m\n\u001b[0;32m----> 1\u001b[0m np\u001b[38;5;241m.\u001b[39marray([[\u001b[38;5;241m2\u001b[39m, \u001b[38;5;241m4\u001b[39m, \u001b[38;5;241m5\u001b[39m], [\u001b[38;5;241m1\u001b[39m, \u001b[38;5;241m2\u001b[39m, \u001b[38;5;241m3\u001b[39m, \u001b[38;5;241m12\u001b[39m]])\n",
      "\u001b[0;31mValueError\u001b[0m: setting an array element with a sequence. The requested array has an inhomogeneous shape after 1 dimensions. The detected shape was (2,) + inhomogeneous part."
     ]
    }
   ],
   "source": [
    "np.array([[2, 4, 5], [1, 2, 3, 12]])"
   ]
  },
  {
   "cell_type": "markdown",
   "id": "63a7c75e",
   "metadata": {},
   "source": [
    "NumPy arrays require all rows to have the same number of elements, unlike Python lists which can have varying lengths. This is a key difference that allows NumPy to perform efficient numerical computations."
   ]
  },
  {
   "cell_type": "code",
   "execution_count": 75,
   "id": "51191a45",
   "metadata": {},
   "outputs": [
    {
     "data": {
      "text/plain": [
       "(2, 3)"
      ]
     },
     "execution_count": 75,
     "metadata": {},
     "output_type": "execute_result"
    }
   ],
   "source": [
    "two_dim_arr.shape"
   ]
  },
  {
   "cell_type": "markdown",
   "id": "416baca0",
   "metadata": {},
   "source": [
    "The `shape` attribute of a NumPy array returns a tuple representing the dimensions of the array. Here, `(2, 3)` indicates that `two_dim_arr` is a 2D array with 2 rows and 3 columns. This attribute is useful for understanding the structure of multi-dimensional arrays in NumPy, which is essential for many scientific computing tasks."
   ]
  },
  {
   "cell_type": "code",
   "execution_count": 76,
   "id": "a275cc31",
   "metadata": {},
   "outputs": [
    {
     "data": {
      "text/plain": [
       "(10,)"
      ]
     },
     "execution_count": 76,
     "metadata": {},
     "output_type": "execute_result"
    }
   ],
   "source": [
    "numbers.shape"
   ]
  },
  {
   "cell_type": "markdown",
   "id": "05870343",
   "metadata": {},
   "source": [
    "The output `(10,)` indicates that `numbers` is a 1D array with 10 elements. The comma after 10 is important as it distinguishes a 1D array from a scalar."
   ]
  },
  {
   "cell_type": "code",
   "execution_count": 77,
   "id": "76598beb",
   "metadata": {},
   "outputs": [],
   "source": [
    "three_dimensional_arr = np.array([[[1, 2], [1, 2]],\n",
    "                                  [[4, 5], [6, 7]],\n",
    "                                  [[10, 20], [30, 10]]])"
   ]
  },
  {
   "cell_type": "code",
   "execution_count": 78,
   "id": "7166c4fc",
   "metadata": {},
   "outputs": [
    {
     "data": {
      "text/plain": [
       "(3, 2, 2)"
      ]
     },
     "execution_count": 78,
     "metadata": {},
     "output_type": "execute_result"
    }
   ],
   "source": [
    "three_dimensional_arr.shape"
   ]
  },
  {
   "cell_type": "markdown",
   "id": "c9390a35",
   "metadata": {},
   "source": [
    "Here, we create a 3D NumPy array `three_dimensional_arr`. The `shape` attribute returns `(3, 2, 2)`, indicating that this array has 3 dimensions: 3 \"layers\", each containing 2 rows and 2 columns. This structure can be visualized as a cube of numbers, where each layer is a 2x2 grid. The first index (3) represents the number of layers, while the second (2) and third (2) indices represent the rows and columns in each layer, respectively."
   ]
  },
  {
   "cell_type": "code",
   "execution_count": 79,
   "id": "03f79ee3",
   "metadata": {},
   "outputs": [
    {
     "data": {
      "text/plain": [
       "array([[2, 4, 5],\n",
       "       [1, 2, 3]])"
      ]
     },
     "execution_count": 79,
     "metadata": {},
     "output_type": "execute_result"
    }
   ],
   "source": [
    "two_dim_arr"
   ]
  },
  {
   "cell_type": "markdown",
   "id": "4e2cd873",
   "metadata": {},
   "source": [
    "The `two_dim_arr` is a 2D NumPy array, also known as a matrix. It has 2 rows and 3 columns. Each row is represented by a nested list within the outer list.\n",
    "\n",
    "You can access elements of two-dimensional array with a tuple."
   ]
  },
  {
   "cell_type": "code",
   "execution_count": 80,
   "id": "bfc387d1",
   "metadata": {},
   "outputs": [
    {
     "data": {
      "text/plain": [
       "3"
      ]
     },
     "execution_count": 80,
     "metadata": {},
     "output_type": "execute_result"
    }
   ],
   "source": [
    "two_dim_arr[(1, 2)]"
   ]
  },
  {
   "cell_type": "markdown",
   "id": "4aa7e31e",
   "metadata": {},
   "source": [
    "Python allows you to omit parentheses in this case"
   ]
  },
  {
   "cell_type": "code",
   "execution_count": 81,
   "id": "3838322d",
   "metadata": {},
   "outputs": [
    {
     "data": {
      "text/plain": [
       "3"
      ]
     },
     "execution_count": 81,
     "metadata": {},
     "output_type": "execute_result"
    }
   ],
   "source": [
    "two_dim_arr[1, 2]"
   ]
  },
  {
   "cell_type": "markdown",
   "id": "7c6c2cf4",
   "metadata": {},
   "source": [
    "You can also retrieve a row by specifying its index."
   ]
  },
  {
   "cell_type": "code",
   "execution_count": 82,
   "id": "0ef16dc0",
   "metadata": {},
   "outputs": [
    {
     "data": {
      "text/plain": [
       "array([2, 4, 5])"
      ]
     },
     "execution_count": 82,
     "metadata": {},
     "output_type": "execute_result"
    }
   ],
   "source": [
    "two_dim_arr[0]"
   ]
  },
  {
   "cell_type": "markdown",
   "id": "d7fde171",
   "metadata": {},
   "source": [
    "To select a column, you can use the following syntax. Here `:` is a slice that means \"all elements\"."
   ]
  },
  {
   "cell_type": "code",
   "execution_count": 83,
   "id": "3d8d0364",
   "metadata": {},
   "outputs": [
    {
     "data": {
      "text/plain": [
       "array([4, 2])"
      ]
     },
     "execution_count": 83,
     "metadata": {},
     "output_type": "execute_result"
    }
   ],
   "source": [
    "two_dim_arr[:, 1]"
   ]
  },
  {
   "cell_type": "markdown",
   "id": "e3a23a24",
   "metadata": {},
   "source": [
    "Advanced indexing techniques are also working, though their semantics can be less trivial than in one dimensional arrays"
   ]
  },
  {
   "cell_type": "code",
   "execution_count": 84,
   "id": "ae3f1526",
   "metadata": {},
   "outputs": [
    {
     "data": {
      "text/plain": [
       "array([[2, 4, 5]])"
      ]
     },
     "execution_count": 84,
     "metadata": {},
     "output_type": "execute_result"
    }
   ],
   "source": [
    "two_dim_arr[two_dim_arr[:, 0] > 1]"
   ]
  },
  {
   "cell_type": "markdown",
   "id": "ae4132d7",
   "metadata": {},
   "source": [
    "This demonstrates boolean indexing in NumPy. The expression `two_dim_arr[:, 0] > 1` creates a boolean mask for the first column, which is then used to select rows where the condition is True. It returns a 2D array containing only the rows where the first element is greater than 1."
   ]
  },
  {
   "cell_type": "code",
   "execution_count": 85,
   "id": "76991a1c",
   "metadata": {},
   "outputs": [
    {
     "data": {
      "text/plain": [
       "array([[2, 4, 5],\n",
       "       [1, 2, 3]])"
      ]
     },
     "execution_count": 85,
     "metadata": {},
     "output_type": "execute_result"
    }
   ],
   "source": [
    "two_dim_arr"
   ]
  },
  {
   "cell_type": "markdown",
   "id": "8b035927",
   "metadata": {},
   "source": [
    "Here we see the entire `two_dim_arr`. It's a 2x3 array, which helps us understand the results of our previous operations."
   ]
  },
  {
   "cell_type": "code",
   "execution_count": 86,
   "id": "613e37a9",
   "metadata": {},
   "outputs": [
    {
     "data": {
      "text/plain": [
       "array([2, 4, 5, 2, 3])"
      ]
     },
     "execution_count": 86,
     "metadata": {},
     "output_type": "execute_result"
    }
   ],
   "source": [
    "two_dim_arr[two_dim_arr > 1]"
   ]
  },
  {
   "cell_type": "markdown",
   "id": "2b349395",
   "metadata": {},
   "source": [
    "Here we used two-dimensional mask to select elements from two-dimensional array, but the result is one-dimensional as you cannot maintain the rectangular structure after the selection."
   ]
  },
  {
   "cell_type": "markdown",
   "id": "d8237799",
   "metadata": {},
   "source": [
    "Let's use two-dimensional arrays as true mathematical matrix!"
   ]
  },
  {
   "cell_type": "code",
   "execution_count": 87,
   "id": "0a3202a9",
   "metadata": {},
   "outputs": [
    {
     "data": {
      "text/plain": [
       "array([2, 1])"
      ]
     },
     "execution_count": 87,
     "metadata": {},
     "output_type": "execute_result"
    }
   ],
   "source": [
    "two_dim_arr @ np.array([1, 0, 0])"
   ]
  },
  {
   "cell_type": "markdown",
   "id": "6aa0d0df",
   "metadata": {},
   "source": [
    "The `@` operator performs matrix multiplication between `two_dim_arr` and the vector `[1, 0, 0]`. This operation effectively selects the first column of `two_dim_arr`. The result is a 1D array containing the first element of each row in `two_dim_arr`."
   ]
  },
  {
   "cell_type": "code",
   "execution_count": 88,
   "id": "190caa03",
   "metadata": {},
   "outputs": [
    {
     "data": {
      "text/plain": [
       "array([[2, 4, 5],\n",
       "       [1, 2, 3]])"
      ]
     },
     "execution_count": 88,
     "metadata": {},
     "output_type": "execute_result"
    }
   ],
   "source": [
    "two_dim_arr"
   ]
  },
  {
   "cell_type": "markdown",
   "id": "f75de69e",
   "metadata": {},
   "source": [
    "What happens if instead one-dimensional array I will use two-dimensional array as a second multiplier?"
   ]
  },
  {
   "cell_type": "code",
   "execution_count": 89,
   "id": "8afc3494",
   "metadata": {},
   "outputs": [
    {
     "ename": "ValueError",
     "evalue": "matmul: Input operand 1 has a mismatch in its core dimension 0, with gufunc signature (n?,k),(k,m?)->(n?,m?) (size 1 is different from 3)",
     "output_type": "error",
     "traceback": [
      "\u001b[0;31m---------------------------------------------------------------------------\u001b[0m",
      "\u001b[0;31mValueError\u001b[0m                                Traceback (most recent call last)",
      "Cell \u001b[0;32mIn[89], line 1\u001b[0m\n\u001b[0;32m----> 1\u001b[0m two_dim_arr \u001b[38;5;241m@\u001b[39m np\u001b[38;5;241m.\u001b[39marray([[\u001b[38;5;241m1\u001b[39m, \u001b[38;5;241m0\u001b[39m, \u001b[38;5;241m0\u001b[39m]])\n",
      "\u001b[0;31mValueError\u001b[0m: matmul: Input operand 1 has a mismatch in its core dimension 0, with gufunc signature (n?,k),(k,m?)->(n?,m?) (size 1 is different from 3)"
     ]
    }
   ],
   "source": [
    "two_dim_arr @ np.array([[1, 0, 0]])"
   ]
  },
  {
   "cell_type": "markdown",
   "id": "6c54f69f",
   "metadata": {},
   "source": [
    "The error mentioned earlier occurs due to incompatible shapes for matrix multiplication. For the `@` operator to work, the number of columns in the first array must match the number of rows in the second array. Here, `two_dim_arr` has 3 columns, but the second array was a 1x3 array (row vector). To correct this, we need to use a 3x1 array (column vector) instead:"
   ]
  },
  {
   "cell_type": "code",
   "execution_count": 90,
   "id": "f515635d",
   "metadata": {},
   "outputs": [
    {
     "data": {
      "text/plain": [
       "array([[2],\n",
       "       [1]])"
      ]
     },
     "execution_count": 90,
     "metadata": {},
     "output_type": "execute_result"
    }
   ],
   "source": [
    "two_dim_arr @ np.array([[1], [0], [0]])"
   ]
  },
  {
   "cell_type": "markdown",
   "id": "516f7d33",
   "metadata": {},
   "source": [
    "This operation performs matrix multiplication between `two_dim_arr` (2x3) and a 3x1 column vector. The result is a 2x1 array, where each element is the dot product of a row from `two_dim_arr` and the column vector. In NumPy, the `@` operator is used for matrix multiplication, which is different from element-wise multiplication (performed using the `*` operator).\n",
    "\n",
    "The resulting 2x1 array represents the product of multiplying each row of `two_dim_arr` by the column vector `[1, 0, 0]`. This effectively selects the first column of `two_dim_arr`."
   ]
  },
  {
   "cell_type": "code",
   "execution_count": 91,
   "id": "68ff0b62",
   "metadata": {},
   "outputs": [
    {
     "data": {
      "text/plain": [
       "array([[2, 4, 5],\n",
       "       [1, 2, 3]])"
      ]
     },
     "execution_count": 91,
     "metadata": {},
     "output_type": "execute_result"
    }
   ],
   "source": [
    "two_dim_arr"
   ]
  },
  {
   "cell_type": "code",
   "execution_count": 92,
   "id": "df6bd8fb",
   "metadata": {},
   "outputs": [
    {
     "data": {
      "text/plain": [
       "array([[2, 1],\n",
       "       [4, 2],\n",
       "       [5, 3]])"
      ]
     },
     "execution_count": 92,
     "metadata": {},
     "output_type": "execute_result"
    }
   ],
   "source": [
    "two_dim_arr.T"
   ]
  },
  {
   "cell_type": "markdown",
   "id": "fe3de2d2",
   "metadata": {},
   "source": [
    "The `.T` attribute of a NumPy array returns its transpose. For a 2D array, this operation switches the rows and columns. In this case, the 2x3 array becomes a 3x2 array. Transposition is often used in linear algebra operations and data manipulation tasks."
   ]
  },
  {
   "cell_type": "code",
   "execution_count": 93,
   "id": "be0e9ec5",
   "metadata": {},
   "outputs": [
    {
     "data": {
      "text/plain": [
       "array([[2, 4],\n",
       "       [5, 1],\n",
       "       [2, 3]])"
      ]
     },
     "execution_count": 93,
     "metadata": {},
     "output_type": "execute_result"
    }
   ],
   "source": [
    "two_dim_arr.reshape(3, 2)"
   ]
  },
  {
   "cell_type": "markdown",
   "id": "1261f42c",
   "metadata": {},
   "source": [
    "The `reshape` method allows us to change the shape of an array without altering its data. Here, we're transforming the 2x3 array into a 3x2 array. The total number of elements (6) remains the same, but their arrangement changes. This method is useful when you need to reorganize data for specific computations or to match the input shape requirements of certain functions. The elements are filled in row-wise order, meaning they are taken from the original array row by row and placed into the new shape.\n",
    "\n",
    "Note the difference with the transposition `.T`."
   ]
  },
  {
   "cell_type": "code",
   "execution_count": 94,
   "id": "82988f08",
   "metadata": {},
   "outputs": [
    {
     "data": {
      "text/plain": [
       "array([[2, 4],\n",
       "       [5, 1],\n",
       "       [2, 3]])"
      ]
     },
     "execution_count": 94,
     "metadata": {},
     "output_type": "execute_result"
    }
   ],
   "source": [
    "two_dim_arr.reshape(3, 2)"
   ]
  },
  {
   "cell_type": "markdown",
   "id": "d3e6de35",
   "metadata": {},
   "source": [
    "We can reshape an array into different dimensions using the `reshape` method. This allows us to change the structure of the array without altering its data."
   ]
  },
  {
   "cell_type": "code",
   "execution_count": 95,
   "id": "e5ad7e1f",
   "metadata": {},
   "outputs": [
    {
     "data": {
      "text/plain": [
       "array([2, 4, 5, 1, 2, 3])"
      ]
     },
     "execution_count": 95,
     "metadata": {},
     "output_type": "execute_result"
    }
   ],
   "source": [
    "two_dim_arr.reshape(6)"
   ]
  },
  {
   "cell_type": "markdown",
   "id": "a436239c",
   "metadata": {},
   "source": [
    "In this example, we reshape the `two_dim_arr` into a 1D array with 6 elements. This operation flattens the array, converting it from its original multi-dimensional structure to a single row of elements."
   ]
  },
  {
   "cell_type": "markdown",
   "id": "850e5355",
   "metadata": {},
   "source": [
    "NumPy provides a convenient way to automatically determine the size of one dimension using `-1` as an argument in `reshape`. This is particularly useful when working with arrays of unknown size or when ensuring all elements are included in the reshaping operation."
   ]
  },
  {
   "cell_type": "code",
   "execution_count": 96,
   "id": "59eabbaa",
   "metadata": {},
   "outputs": [
    {
     "data": {
      "text/plain": [
       "array([2, 4, 5, 1, 2, 3])"
      ]
     },
     "execution_count": 96,
     "metadata": {},
     "output_type": "execute_result"
    }
   ],
   "source": [
    "two_dim_arr.reshape(-1)"
   ]
  },
  {
   "cell_type": "markdown",
   "id": "b167479c",
   "metadata": {},
   "source": [
    "The `reshape(-1)` method flattens the array into a 1D array. Using `-1` as an argument tells NumPy to automatically calculate the appropriate size for the new shape. In this case, it's equivalent to `reshape(6)`, as there are 6 elements in `two_dim_arr`."
   ]
  },
  {
   "cell_type": "markdown",
   "id": "6ab12635",
   "metadata": {},
   "source": [
    "We can also use `-1` to automatically determine one dimension when reshaping to a 2D array:"
   ]
  },
  {
   "cell_type": "code",
   "execution_count": 97,
   "id": "b2ea44e3",
   "metadata": {},
   "outputs": [
    {
     "data": {
      "text/plain": [
       "array([[2, 4],\n",
       "       [5, 1],\n",
       "       [2, 3]])"
      ]
     },
     "execution_count": 97,
     "metadata": {},
     "output_type": "execute_result"
    }
   ],
   "source": [
    "two_dim_arr.reshape(-1, 2)"
   ]
  },
  {
   "cell_type": "markdown",
   "id": "25b5a2ad",
   "metadata": {},
   "source": [
    "The `reshape` method is used to change the shape of an array without altering its data. In this example, we're reshaping `two_dim_arr` into a new array with 2 columns. The `-1` in the first dimension tells NumPy to automatically calculate the number of rows needed to accommodate all elements."
   ]
  },
  {
   "cell_type": "markdown",
   "id": "2b08b5c1",
   "metadata": {},
   "source": [
    "Reshaping arrays in NumPy requires careful consideration of the total number of elements. Let's explore some reshaping operations:"
   ]
  },
  {
   "cell_type": "code",
   "execution_count": 98,
   "id": "d053b1d3",
   "metadata": {},
   "outputs": [
    {
     "ename": "ValueError",
     "evalue": "cannot reshape array of size 6 into shape (2,2)",
     "output_type": "error",
     "traceback": [
      "\u001b[0;31m---------------------------------------------------------------------------\u001b[0m",
      "\u001b[0;31mValueError\u001b[0m                                Traceback (most recent call last)",
      "Cell \u001b[0;32mIn[98], line 1\u001b[0m\n\u001b[0;32m----> 1\u001b[0m two_dim_arr\u001b[38;5;241m.\u001b[39mreshape(\u001b[38;5;241m2\u001b[39m, \u001b[38;5;241m2\u001b[39m)\n",
      "\u001b[0;31mValueError\u001b[0m: cannot reshape array of size 6 into shape (2,2)"
     ]
    }
   ],
   "source": [
    "two_dim_arr.reshape(2, 2)"
   ]
  },
  {
   "cell_type": "markdown",
   "id": "bba30b8c",
   "metadata": {},
   "source": [
    "This error occurs because `two_dim_arr` has 6 elements, which can't be reshaped into a 2x2 array (4 elements). When reshaping, the total number of elements must remain constant."
   ]
  },
  {
   "cell_type": "code",
   "execution_count": 99,
   "id": "db51f020",
   "metadata": {},
   "outputs": [
    {
     "data": {
      "text/plain": [
       "array([[2],\n",
       "       [4],\n",
       "       [5],\n",
       "       [1],\n",
       "       [2],\n",
       "       [3]])"
      ]
     },
     "execution_count": 99,
     "metadata": {},
     "output_type": "execute_result"
    }
   ],
   "source": [
    "two_dim_arr.reshape(-1, 1)"
   ]
  },
  {
   "cell_type": "markdown",
   "id": "33244b6e",
   "metadata": {},
   "source": [
    "Here, we reshape the array into a single column. The `-1` in `reshape(-1, 1)` tells NumPy to automatically calculate the necessary number of rows, resulting in a 6x1 array (a column vector)."
   ]
  },
  {
   "cell_type": "code",
   "execution_count": 100,
   "id": "12eb85b5",
   "metadata": {},
   "outputs": [
    {
     "data": {
      "text/plain": [
       "array([[2, 4, 5],\n",
       "       [1, 2, 3]])"
      ]
     },
     "execution_count": 100,
     "metadata": {},
     "output_type": "execute_result"
    }
   ],
   "source": [
    "two_dim_arr.ravel().base"
   ]
  },
  {
   "cell_type": "markdown",
   "id": "0158b9eb",
   "metadata": {},
   "source": [
    "The `ravel()` method flattens the array, creating a view of the original array. The `.base` attribute returns the base array if the array is a view. In this case, it returns the original array, confirming that `ravel()` created a view rather than a copy."
   ]
  },
  {
   "cell_type": "code",
   "execution_count": 101,
   "id": "cf19135c",
   "metadata": {},
   "outputs": [],
   "source": [
    "two_dim_arr.flatten().base"
   ]
  },
  {
   "cell_type": "markdown",
   "id": "e7ee9bff",
   "metadata": {},
   "source": [
    "Unlike `ravel()`, the `flatten()` method always returns a copy of the flattened array. Therefore, `.base` returns `None`, indicating that the flattened array is not a view of any other array."
   ]
  },
  {
   "cell_type": "markdown",
   "id": "1f0be730",
   "metadata": {},
   "source": [
    "### Broadcasting"
   ]
  },
  {
   "cell_type": "code",
   "execution_count": 102,
   "id": "ef6ca9fd",
   "metadata": {},
   "outputs": [
    {
     "data": {
      "text/plain": [
       "array([4, 5, 6, 7])"
      ]
     },
     "execution_count": 102,
     "metadata": {},
     "output_type": "execute_result"
    }
   ],
   "source": [
    "np.array([1, 2, 3, 4]) + 3"
   ]
  },
  {
   "cell_type": "markdown",
   "id": "99cf2c62",
   "metadata": {},
   "source": [
    "NumPy allows for element-wise operations on arrays. This capability enables efficient computations without the need for explicit loops. Let's explore some examples:"
   ]
  },
  {
   "cell_type": "code",
   "execution_count": 103,
   "id": "7c91da7d",
   "metadata": {},
   "outputs": [
    {
     "data": {
      "text/plain": [
       "array([11, 22, 33, 44])"
      ]
     },
     "execution_count": 103,
     "metadata": {},
     "output_type": "execute_result"
    }
   ],
   "source": [
    "np.array([1, 2, 3, 4]) + np.array([10, 20, 30, 40])"
   ]
  },
  {
   "cell_type": "markdown",
   "id": "21dbade3",
   "metadata": {},
   "source": [
    "NumPy provides powerful capabilities for performing operations on arrays. Let's explore some examples of array operations and broadcasting."
   ]
  },
  {
   "cell_type": "code",
   "execution_count": 104,
   "id": "47feea64",
   "metadata": {},
   "outputs": [
    {
     "data": {
      "text/plain": [
       "array([[11, 12, 13],\n",
       "       [15, 16, 17]])"
      ]
     },
     "execution_count": 104,
     "metadata": {},
     "output_type": "execute_result"
    }
   ],
   "source": [
    "np.array([[1, 2, 3], [5, 6, 7]]) + 10"
   ]
  },
  {
   "cell_type": "markdown",
   "id": "4e9e9ffb",
   "metadata": {},
   "source": [
    "NumPy's broadcasting allows efficient operations between arrays of different shapes. Here are some examples:"
   ]
  },
  {
   "cell_type": "code",
   "execution_count": 105,
   "id": "8b7e0ebd",
   "metadata": {},
   "outputs": [
    {
     "data": {
      "text/plain": [
       "array([[11, 22, 33],\n",
       "       [15, 26, 37]])"
      ]
     },
     "execution_count": 105,
     "metadata": {},
     "output_type": "execute_result"
    }
   ],
   "source": [
    "np.array([[1, 2, 3], [5, 6, 7]]) + np.array([10, 20, 30])"
   ]
  },
  {
   "cell_type": "markdown",
   "id": "574aeefd",
   "metadata": {},
   "source": [
    "NumPy's broadcasting allows for efficient element-wise operations between arrays of different shapes. This feature automatically aligns arrays for arithmetic operations without the need for explicit looping or array duplication."
   ]
  },
  {
   "cell_type": "code",
   "execution_count": 106,
   "id": "5080b30c",
   "metadata": {},
   "outputs": [
    {
     "data": {
      "text/plain": [
       "array([[ 10,  40,  90],\n",
       "       [ 50, 120, 210]])"
      ]
     },
     "execution_count": 106,
     "metadata": {},
     "output_type": "execute_result"
    }
   ],
   "source": [
    "np.array([[1, 2, 3], [5, 6, 7]]) * np.array([10, 20, 30])"
   ]
  },
  {
   "cell_type": "markdown",
   "id": "bdf4dc94",
   "metadata": {},
   "source": [
    "In this example, the 1D array `[10, 20, 30]` is broadcast across each row of the 2D array `[[1, 2, 3], [5, 6, 7]]`. This results in element-wise multiplication, where each element in a row is multiplied by the corresponding element in the 1D array."
   ]
  },
  {
   "cell_type": "code",
   "execution_count": 107,
   "id": "839ec96e",
   "metadata": {},
   "outputs": [
    {
     "data": {
      "text/plain": [
       "array([[ 1,  4,  9],\n",
       "       [ 5, 12, 21]])"
      ]
     },
     "execution_count": 107,
     "metadata": {},
     "output_type": "execute_result"
    }
   ],
   "source": [
    "np.array([[1, 2, 3], [5, 6, 7]]) * np.array([1, 2, 3])"
   ]
  },
  {
   "cell_type": "markdown",
   "id": "aa58c896",
   "metadata": {},
   "source": [
    "This example demonstrates broadcasting in NumPy. The 1D array `[1, 2, 3]` is broadcast across each row of the 2D array, resulting in element-wise multiplication. NumPy automatically aligns the arrays and performs the operation."
   ]
  },
  {
   "cell_type": "markdown",
   "id": "12b84e51",
   "metadata": {},
   "source": [
    "Broadcasting can also work with arrays of different dimensions:\n",
    "```\n",
    "[[1, 2, 3],    [[1],         [[1, 2, 3],     [[1, 1, 1],\n",
    " [5, 6, 7]] *   [2]]   --->   [5, 6, 7]]  *   [2, 2, 2]]\n",
    "```\n",
    "Here, the 2D array `[[1], [2]]` is broadcast to match the shape of the left-hand array. This is equivalent to multiplying the first row by 1 and the second row by 2."
   ]
  },
  {
   "cell_type": "code",
   "execution_count": 108,
   "id": "0f22460d",
   "metadata": {},
   "outputs": [
    {
     "data": {
      "text/plain": [
       "array([[ 1,  2,  3],\n",
       "       [10, 12, 14]])"
      ]
     },
     "execution_count": 108,
     "metadata": {},
     "output_type": "execute_result"
    }
   ],
   "source": [
    "np.array([[1, 2, 3], [5, 6, 7]]) * np.array([1, 2]).reshape(2, 1)"
   ]
  },
  {
   "cell_type": "markdown",
   "id": "04a175a1",
   "metadata": {},
   "source": [
    "In this example, `np.array([1, 2]).reshape(2, 1)` creates a 2x1 array, which is then broadcast across the columns of the 2D array. The `reshape` function changes the shape of the array from 1D to 2D. NumPy automatically stretches the 2x1 array to match the shape of the 2x3 array, allowing element-wise multiplication."
   ]
  },
  {
   "cell_type": "code",
   "execution_count": 109,
   "id": "66b3a035",
   "metadata": {},
   "outputs": [
    {
     "data": {
      "text/plain": [
       "array([[11, 22, 33],\n",
       "       [55, 66, 77]])"
      ]
     },
     "execution_count": 109,
     "metadata": {},
     "output_type": "execute_result"
    }
   ],
   "source": [
    "np.array([[1, 2, 3], [5, 6, 7]]) + np.array([[10, 20, 30], [50, 60, 70]])"
   ]
  },
  {
   "cell_type": "markdown",
   "id": "749a4df1",
   "metadata": {},
   "source": [
    "This operation demonstrates element-wise addition between two 2D arrays of the same shape. No broadcasting is needed in this case as the arrays have identical dimensions. NumPy performs the addition for each corresponding element in the arrays."
   ]
  },
  {
   "cell_type": "code",
   "execution_count": 110,
   "id": "2e030223",
   "metadata": {},
   "outputs": [
    {
     "data": {
      "text/plain": [
       "array([[ 1,  2,  3],\n",
       "       [10, 12, 14]])"
      ]
     },
     "execution_count": 110,
     "metadata": {},
     "output_type": "execute_result"
    }
   ],
   "source": [
    "np.array([[1, 2, 3], [5, 6, 7]]) * np.array([1, 2]).reshape(2, 1)"
   ]
  },
  {
   "cell_type": "markdown",
   "id": "90ed0dc4",
   "metadata": {},
   "source": [
    "In this example, broadcasting is used to multiply a `(2, 3)` array with a `(2, 1)` array. The `reshape(2, 1)` function is used to convert the 1D array `[1, 2]` into a 2D column vector. NumPy then broadcasts this column vector across the columns of the first array, effectively multiplying each row by its corresponding scalar value."
   ]
  },
  {
   "cell_type": "code",
   "execution_count": 111,
   "id": "351546b2",
   "metadata": {},
   "outputs": [
    {
     "data": {
      "text/plain": [
       "(2, 3)"
      ]
     },
     "execution_count": 111,
     "metadata": {},
     "output_type": "execute_result"
    }
   ],
   "source": [
    "np.array([[1, 2, 3], [5, 6, 7]]).shape"
   ]
  },
  {
   "cell_type": "markdown",
   "id": "dad92c17",
   "metadata": {},
   "source": [
    "The `shape` attribute returns a tuple representing the dimensions of the array. In this case, `(2, 3)` indicates a 2D array with 2 rows and 3 columns. When broadcasting occurs, NumPy adjusts the shape of the smaller array to match the larger one. For instance, a `(2, 1)` array is expanded to `(2, 3)` by duplicating the single column across all columns of the larger array."
   ]
  },
  {
   "cell_type": "code",
   "execution_count": 112,
   "id": "78b0bd51",
   "metadata": {},
   "outputs": [
    {
     "data": {
      "text/plain": [
       "array([[11, 12, 13, 14],\n",
       "       [21, 22, 23, 24],\n",
       "       [31, 32, 33, 34]])"
      ]
     },
     "execution_count": 112,
     "metadata": {},
     "output_type": "execute_result"
    }
   ],
   "source": [
    "np.array([[1, 2, 3, 4]]) + np.array([[10],\n",
    "                                     [20],\n",
    "                                     [30]])"
   ]
  },
  {
   "cell_type": "markdown",
   "id": "70099637",
   "metadata": {},
   "source": [
    "This example demonstrates NumPy's broadcasting feature. The `(1, 4)` array is broadcast to match the shape of the `(3, 1)` array after it's broadcast, resulting in a `(3, 4)` output array. NumPy automatically expands both arrays along their respective axes to perform element-wise addition."
   ]
  },
  {
   "cell_type": "markdown",
   "id": "0d9370ca",
   "metadata": {},
   "source": [
    "Broadcasting visualization:\n",
    "```\n",
    "(1, 4)   -> (3, 4)\n",
    "(3, 1)   -> (3, 4)\n",
    "```"
   ]
  },
  {
   "cell_type": "code",
   "execution_count": 113,
   "id": "9b0e4bae",
   "metadata": {},
   "outputs": [
    {
     "data": {
      "text/plain": [
       "array([[11, 12, 13, 14],\n",
       "       [21, 22, 23, 24],\n",
       "       [31, 32, 33, 34]])"
      ]
     },
     "execution_count": 113,
     "metadata": {},
     "output_type": "execute_result"
    }
   ],
   "source": [
    "np.array([[1, 2, 3, 4], [1, 2, 3, 4], [1, 2, 3, 4]]) + np.array(\n",
    "    [[10, 10, 10, 10],\n",
    "     [20, 20, 20, 20],\n",
    "     [30, 30, 30, 30]])"
   ]
  },
  {
   "cell_type": "code",
   "execution_count": 114,
   "id": "7cb9558e",
   "metadata": {},
   "outputs": [
    {
     "data": {
      "text/plain": [
       "array([[[ 11,  12,  13,  14],\n",
       "        [ 21,  22,  23,  24],\n",
       "        [ 31,  32,  33,  34]],\n",
       "\n",
       "       [[110, 210, 310, 410],\n",
       "        [120, 220, 320, 420],\n",
       "        [130, 230, 330, 430]]])"
      ]
     },
     "execution_count": 114,
     "metadata": {},
     "output_type": "execute_result"
    }
   ],
   "source": [
    "np.array([[[1, 2, 3, 4]],\n",
    "          [[100, 200, 300, 400]]]) + np.array([[10],\n",
    "                                               [20],\n",
    "                                               [30]])"
   ]
  },
  {
   "cell_type": "markdown",
   "id": "49cb2d9b",
   "metadata": {},
   "source": [
    "This example demonstrates NumPy's broadcasting feature. The operation adds a `(2, 1, 4)` array to a `(3, 1)` array. NumPy automatically expands these arrays to compatible shapes, allowing element-wise addition across multiple dimensions. The result is a `(2, 3, 4)` array.\n",
    "\n",
    "To check whether two arrays are compatible for broadcasting, we can perform the following procedure:\n",
    "\n",
    "1. Write their shape, aligned to the right:\n",
    "\n",
    "```\n",
    "(2, 1, 4)\n",
    "   (3, 1)\n",
    "```\n",
    "\n",
    "2. Consider pairs of numbers, one above the other (e.g. `1` and `3` or `4` and `1`). They should either coincide (it means that the dimensions along corresponding axes are the same), or one of them should be equal to 1 (it means that the array where this dimension is 1 can be extended along this dimension by copying its content several times)."
   ]
  },
  {
   "cell_type": "markdown",
   "id": "1c66e872",
   "metadata": {},
   "source": [
    "#### Broadcasting example\n",
    "Let's solve the following problem.\n",
    "I have a point \n",
    "$P=(x_0, y_0)$ and a vector $v=(v_x, v_y)$, and I want to draw a line:\n",
    "$$\\{P+tv\\vert t\\in \\mathbb R\\}$$\n",
    "\n",
    "This equation represents a line passing through point $P$ in the direction of vector $v$. The parameter $t$ scales the vector, allowing the line to extend infinitely in both directions."
   ]
  },
  {
   "cell_type": "code",
   "execution_count": 105,
   "id": "c8935d5c",
   "metadata": {},
   "outputs": [],
   "source": [
    "t = np.linspace(-3, 3, 11)"
   ]
  },
  {
   "cell_type": "code",
   "execution_count": 106,
   "id": "5b98cd92",
   "metadata": {},
   "outputs": [
    {
     "data": {
      "text/plain": [
       "array([-3. , -2.4, -1.8, -1.2, -0.6,  0. ,  0.6,  1.2,  1.8,  2.4,  3. ])"
      ]
     },
     "execution_count": 106,
     "metadata": {},
     "output_type": "execute_result"
    }
   ],
   "source": [
    "t"
   ]
  },
  {
   "cell_type": "markdown",
   "id": "d3bf92f8",
   "metadata": {},
   "source": [
    "The `np.linspace()` function generates 11 evenly spaced points between -3 and 3, inclusive. This array `t` will be used as a parameter to compute points along the line."
   ]
  },
  {
   "cell_type": "code",
   "execution_count": 107,
   "id": "82f6851b",
   "metadata": {},
   "outputs": [],
   "source": [
    "P = np.array([1., 4.])\n",
    "v = np.array([-1., 2.])"
   ]
  },
  {
   "cell_type": "markdown",
   "id": "53dcacb5",
   "metadata": {},
   "source": [
    "Here, we define the point `P` and vector `v` as NumPy arrays. `P` represents the initial point (1, 4) on the line, and `v` represents the direction vector (-1, 2). These will be used in conjunction with the `t` array to generate points along the line using the parametric equation of a line: P + t*v."
   ]
  },
  {
   "cell_type": "code",
   "execution_count": 108,
   "id": "ea241fce",
   "metadata": {},
   "outputs": [
    {
     "data": {
      "text/plain": [
       "(11,)"
      ]
     },
     "execution_count": 108,
     "metadata": {},
     "output_type": "execute_result"
    }
   ],
   "source": [
    "t.shape"
   ]
  },
  {
   "cell_type": "code",
   "execution_count": 109,
   "id": "50a1b4a6",
   "metadata": {},
   "outputs": [],
   "source": [
    "points = P.reshape(2, 1) + t * v.reshape(2, 1)"
   ]
  },
  {
   "cell_type": "markdown",
   "id": "39827b3c",
   "metadata": {},
   "source": [
    "This line calculates the points along the line. `P.reshape(2, 1)` converts `P` into a 2x1 column vector. `v.reshape(2, 1)` does the same for `v`. The `t` array is automatically broadcast to match the dimensions during multiplication. The result `points` will be a 2x11 array, where each column represents a point on the line.\n",
    "\n",
    "The reshaping is necessary to ensure proper broadcasting and matrix multiplication. Without reshaping, NumPy wouldn't know how to multiply the arrays correctly."
   ]
  },
  {
   "cell_type": "code",
   "execution_count": 110,
   "id": "722ea112",
   "metadata": {},
   "outputs": [],
   "source": [
    "import matplotlib.pyplot as plt"
   ]
  },
  {
   "cell_type": "code",
   "execution_count": 111,
   "id": "318ab5ad",
   "metadata": {},
   "outputs": [
    {
     "data": {
      "text/plain": [
       "[<matplotlib.lines.Line2D at 0x111dfe390>]"
      ]
     },
     "execution_count": 111,
     "metadata": {},
     "output_type": "execute_result"
    },
    {
     "data": {
      "image/png": "[encoded data removed]",
      "text/plain": [
       "<Figure size 640x480 with 1 Axes>"
      ]
     },
     "metadata": {},
     "output_type": "display_data"
    }
   ],
   "source": [
    "plt.plot(points[0], points[1])\n",
    "plt.plot(P[0], P[1], 'o')"
   ]
  },
  {
   "cell_type": "markdown",
   "id": "b56817af",
   "metadata": {},
   "source": [
    "Here, we use matplotlib to visualize our results. The first `plt.plot()` call draws the line using the x-coordinates (`points[0]`) and y-coordinates (`points[1]`) of our calculated points. The second `plt.plot()` call adds a circular marker ('o') at the point P, which is likely the starting point of our line."
   ]
  },
  {
   "cell_type": "markdown",
   "id": "a28fcd85",
   "metadata": {},
   "source": [
    "### Reductions"
   ]
  },
  {
   "cell_type": "code",
   "execution_count": 112,
   "id": "535ddeb0",
   "metadata": {},
   "outputs": [],
   "source": [
    "two_dimensional_array = np.array([[1, 2, 3], [4, 5, 6]])"
   ]
  },
  {
   "cell_type": "markdown",
   "id": "410ae74c",
   "metadata": {},
   "source": [
    "This section demonstrates various ways to calculate sums using NumPy arrays."
   ]
  },
  {
   "cell_type": "code",
   "execution_count": 113,
   "id": "2198e014",
   "metadata": {},
   "outputs": [
    {
     "data": {
      "text/plain": [
       "21"
      ]
     },
     "execution_count": 113,
     "metadata": {},
     "output_type": "execute_result"
    }
   ],
   "source": [
    "two_dimensional_array.sum()"
   ]
  },
  {
   "cell_type": "markdown",
   "id": "fdc1656e",
   "metadata": {},
   "source": [
    "The `sum()` method in NumPy arrays is versatile and can be used in different ways:"
   ]
  },
  {
   "cell_type": "code",
   "execution_count": 114,
   "id": "c500b806",
   "metadata": {},
   "outputs": [
    {
     "data": {
      "text/plain": [
       "array([5, 7, 9])"
      ]
     },
     "execution_count": 114,
     "metadata": {},
     "output_type": "execute_result"
    }
   ],
   "source": [
    "two_dimensional_array.sum(axis=0)"
   ]
  },
  {
   "cell_type": "markdown",
   "id": "c51b009a",
   "metadata": {},
   "source": [
    "When `axis=0` is specified, `sum()` computes along the first axis (columns). This results in a 1D array where each element is the sum of the corresponding column in the original 2D array."
   ]
  },
  {
   "cell_type": "code",
   "execution_count": 115,
   "id": "94e823ab",
   "metadata": {},
   "outputs": [
    {
     "data": {
      "text/plain": [
       "array([ 6, 15])"
      ]
     },
     "execution_count": 115,
     "metadata": {},
     "output_type": "execute_result"
    }
   ],
   "source": [
    "two_dimensional_array.sum(axis=1)"
   ]
  },
  {
   "cell_type": "markdown",
   "id": "bd3b5645",
   "metadata": {},
   "source": [
    "The `sum()` function with `axis=1` calculates the sum along the second axis (rows) of the 2D array. The result is a 1D array where each element represents the sum of a row in the original array."
   ]
  },
  {
   "cell_type": "markdown",
   "id": "29cb235f",
   "metadata": {},
   "source": [
    "NumPy's `axis` parameter is crucial for controlling operations on multi-dimensional arrays. When `axis=0`, operations are performed vertically (down columns), while `axis=1` operates horizontally (across rows). This concept extends to higher dimensions and is applicable to many NumPy functions."
   ]
  },
  {
   "cell_type": "code",
   "execution_count": 116,
   "id": "39ca5e07",
   "metadata": {},
   "outputs": [
    {
     "data": {
      "text/plain": [
       "array([[11, 22, 33],\n",
       "       [44, 55, 66]])"
      ]
     },
     "execution_count": 116,
     "metadata": {},
     "output_type": "execute_result"
    }
   ],
   "source": [
    "np.array([\n",
    "    [\n",
    "        [1, 2, 3], \n",
    "        [4, 5, 6]\n",
    "    ], \n",
    "    [\n",
    "        [10, 20, 30], \n",
    "        [40, 50, 60]\n",
    "    ]\n",
    "]).sum(axis=0)"
   ]
  },
  {
   "cell_type": "markdown",
   "id": "d2c0ed7c",
   "metadata": {},
   "source": [
    "In this 3D array example, `sum(axis=0)` adds corresponding elements along the first axis (depth), resulting in a 2D array. Each element in the output is the sum of the corresponding elements from each \"layer\" of the 3D array."
   ]
  },
  {
   "cell_type": "code",
   "execution_count": 117,
   "id": "b029ec4e",
   "metadata": {},
   "outputs": [
    {
     "data": {
      "text/plain": [
       "array([ 21, 210])"
      ]
     },
     "execution_count": 117,
     "metadata": {},
     "output_type": "execute_result"
    }
   ],
   "source": [
    "np.array([[[1, 2, 3], [4, 5, 6]], [[10, 20, 30], [40, 50, 60]]]).sum(axis=(1, 2))"
   ]
  },
  {
   "cell_type": "markdown",
   "id": "7419432d",
   "metadata": {},
   "source": [
    "This code demonstrates the use of NumPy's `sum` function on a 3D array. The `axis=(1, 2)` argument specifies that summation should be performed along both the second and third axes simultaneously. This operation collapses the 3D array into a 1D array, where each element represents the sum of all values in the corresponding 2D slice of the original 3D array."
   ]
  },
  {
   "cell_type": "markdown",
   "id": "bf97f853",
   "metadata": {},
   "source": [
    "#### Memory considerations "
   ]
  },
  {
   "cell_type": "markdown",
   "id": "dbb5e3b4",
   "metadata": {},
   "source": [
    "Assume I want to find a value of expression $\\sum_{k=1}^{N} \\cos k$ for large value $N$. With NumPy, the natural way to do it is the following:"
   ]
  },
  {
   "cell_type": "code",
   "execution_count": 49,
   "id": "a5c543d8",
   "metadata": {},
   "outputs": [
    {
     "name": "stdout",
     "output_type": "stream",
     "text": [
      "-0.28870546796845464\n"
     ]
    }
   ],
   "source": [
    "N = 1000000\n",
    "k = np.arange(N)\n",
    "print(np.cos(k).sum())"
   ]
  },
  {
   "cell_type": "markdown",
   "id": "f47673e2",
   "metadata": {},
   "source": [
    "This method is fast, but requires to allocate a memory to store 1000000 intermediate outputs. There exists a memory-efficient algorithm that can be implemented in pure Python:"
   ]
  },
  {
   "cell_type": "code",
   "execution_count": 51,
   "id": "88c3c6ec",
   "metadata": {},
   "outputs": [
    {
     "data": {
      "text/plain": [
       "-0.2887054679684957"
      ]
     },
     "execution_count": 51,
     "metadata": {},
     "output_type": "execute_result"
    }
   ],
   "source": [
    "s = 0\n",
    "N = 1000000\n",
    "for j in range(N):\n",
    "    s += np.cos(j)\n",
    "s"
   ]
  },
  {
   "cell_type": "markdown",
   "id": "ed8f29e6",
   "metadata": {},
   "source": [
    "This code uses a traditional loop to calculate the sum of cosines. While straightforward, this method is less efficient for large `N` due to the iterative nature of Python loops. There is a way to combine two methods using chunks (or batches):"
   ]
  },
  {
   "cell_type": "code",
   "execution_count": 55,
   "id": "1b50502f",
   "metadata": {},
   "outputs": [
    {
     "data": {
      "text/plain": [
       "-0.2887054679683476"
      ]
     },
     "execution_count": 55,
     "metadata": {},
     "output_type": "execute_result"
    }
   ],
   "source": [
    "N = 1000000\n",
    "k = np.arange(N)\n",
    "chunk_size = 100000\n",
    "num_of_chunks = N // chunk_size # careful if N is not divisible by chunk_size\n",
    "s = 0\n",
    "for chunk_i in range(num_of_chunks):\n",
    "    chunk = k[chunk_i * chunk_size: (chunk_i + 1) * chunk_size]\n",
    "    s += np.cos(chunk).sum()\n",
    "s"
   ]
  },
  {
   "cell_type": "markdown",
   "id": "a2381a17",
   "metadata": {},
   "source": [
    "This code demonstrates an efficient way to process large arrays using chunking. It creates a large array `k` with `N` elements and processes it in smaller chunks to manage memory usage. The `chunk_size` determines how many elements are processed at once. The cosine of each chunk is calculated using `np.cos()`, and the results are summed. This approach is particularly useful when dealing with arrays too large to fit in memory all at once."
   ]
  },
  {
   "cell_type": "markdown",
   "id": "388a9580",
   "metadata": {},
   "source": [
    "Another example: let's take some large matrix $M$ and find its product to some diagonal matrix: $M \\cdot diag(\\sigma_1, ..., \\sigma_n)$. The naive approach is the following:"
   ]
  },
  {
   "cell_type": "code",
   "execution_count": 121,
   "id": "4baebc74",
   "metadata": {},
   "outputs": [],
   "source": [
    "matrix = np.random.random(size=(1000, 1000))\n",
    "sigmas = np.random.random(size=1000)"
   ]
  },
  {
   "cell_type": "markdown",
   "id": "913ac830",
   "metadata": {},
   "source": [
    "We can create a diagonal matrix with the given numbers of the diagonal:"
   ]
  },
  {
   "cell_type": "code",
   "execution_count": 123,
   "id": "d3946b48",
   "metadata": {},
   "outputs": [
    {
     "data": {
      "text/plain": [
       "array([[1, 0, 0],\n",
       "       [0, 2, 0],\n",
       "       [0, 0, 3]])"
      ]
     },
     "execution_count": 123,
     "metadata": {},
     "output_type": "execute_result"
    }
   ],
   "source": [
    "np.diag(np.array([1, 2, 3]))"
   ]
  },
  {
   "cell_type": "markdown",
   "id": "bc95b389",
   "metadata": {},
   "source": [
    "The `np.diag()` function creates a diagonal matrix from a 1D array. In this example, it generates a 3x3 diagonal matrix with the values [1, 2, 3] on the main diagonal. This demonstrates the structure of diagonal matrices."
   ]
  },
  {
   "cell_type": "code",
   "execution_count": 124,
   "id": "1fcbaa78",
   "metadata": {},
   "outputs": [
    {
     "data": {
      "text/plain": [
       "array([[0.34057188, 0.07807171, 0.08476916, ..., 0.0933923 , 0.01846817,\n",
       "        0.0996805 ],\n",
       "       [0.13902627, 0.03176711, 0.31592551, ..., 0.07688196, 0.03641688,\n",
       "        0.13340762],\n",
       "       [0.50225592, 0.05247354, 0.18715435, ..., 0.17486112, 0.03487565,\n",
       "        0.10846196],\n",
       "       ...,\n",
       "       [0.20138673, 0.07076871, 0.18291782, ..., 0.05713086, 0.08351834,\n",
       "        0.37912247],\n",
       "       [0.51703713, 0.08010323, 0.09123639, ..., 0.10652218, 0.05722071,\n",
       "        0.34459065],\n",
       "       [0.09693373, 0.03504193, 0.11765744, ..., 0.07138077, 0.03218285,\n",
       "        0.02096532]])"
      ]
     },
     "execution_count": 124,
     "metadata": {},
     "output_type": "execute_result"
    }
   ],
   "source": [
    "matrix @ np.diag(sigmas) # better ideas?"
   ]
  },
  {
   "cell_type": "markdown",
   "id": "cbc08319",
   "metadata": {},
   "source": [
    "In fact, we can do it more efficiently, taking into account that multiplication of a matrix by a diagonal matrix from the right multiplies every column by the number of the diagonal. The same effect can be achieved by elementwise multiplication of a matrix by a one-dimensional array, according to the broadcasting rules: "
   ]
  },
  {
   "cell_type": "code",
   "execution_count": 56,
   "id": "6f2826c0",
   "metadata": {},
   "outputs": [
    {
     "ename": "NameError",
     "evalue": "name 'matrix' is not defined",
     "output_type": "error",
     "traceback": [
      "\u001b[0;31m---------------------------------------------------------------------------\u001b[0m",
      "\u001b[0;31mNameError\u001b[0m                                 Traceback (most recent call last)",
      "Cell \u001b[0;32mIn[56], line 1\u001b[0m\n\u001b[0;32m----> 1\u001b[0m matrix \u001b[38;5;241m*\u001b[39m sigmas\n",
      "\u001b[0;31mNameError\u001b[0m: name 'matrix' is not defined"
     ]
    }
   ],
   "source": [
    "matrix * sigmas"
   ]
  },
  {
   "cell_type": "markdown",
   "id": "d1c2a985",
   "metadata": {},
   "source": [
    "This operation performs element-wise multiplication between `matrix` and `sigmas`. NumPy's broadcasting automatically expands `sigmas` to match `matrix`'s shape, making this operation efficient for large matrices.\n",
    "\n",
    "If we want to multiply `matrix` by diagonal from the right, we need to slighly adjust our approach. Here is a naive implementation for test:"
   ]
  },
  {
   "cell_type": "code",
   "execution_count": 57,
   "id": "81916038",
   "metadata": {},
   "outputs": [
    {
     "ename": "NameError",
     "evalue": "name 'sigmas' is not defined",
     "output_type": "error",
     "traceback": [
      "\u001b[0;31m---------------------------------------------------------------------------\u001b[0m",
      "\u001b[0;31mNameError\u001b[0m                                 Traceback (most recent call last)",
      "Cell \u001b[0;32mIn[57], line 1\u001b[0m\n\u001b[0;32m----> 1\u001b[0m np\u001b[38;5;241m.\u001b[39mdiag(sigmas) \u001b[38;5;241m@\u001b[39m matrix\n",
      "\u001b[0;31mNameError\u001b[0m: name 'sigmas' is not defined"
     ]
    }
   ],
   "source": [
    "np.diag(sigmas) @ matrix"
   ]
  },
  {
   "cell_type": "markdown",
   "id": "11928498",
   "metadata": {},
   "source": [
    "And here is efficient implementation."
   ]
  },
  {
   "cell_type": "code",
   "execution_count": 127,
   "id": "aa05f476",
   "metadata": {},
   "outputs": [
    {
     "data": {
      "text/plain": [
       "array([[0.34057188, 0.57431436, 0.15788005, ..., 0.28878107, 0.12204509,\n",
       "        0.12345994],\n",
       "       [0.01889909, 0.03176711, 0.07998677, ..., 0.03231664, 0.03271473,\n",
       "        0.02246159],\n",
       "       [0.26967188, 0.20725591, 0.18715435, ..., 0.29030967, 0.1237455 ,\n",
       "        0.07212801],\n",
       "       ...,\n",
       "       [0.06512882, 0.16836026, 0.1101762 , ..., 0.05713086, 0.17849282,\n",
       "        0.15185803],\n",
       "       [0.07823934, 0.08916809, 0.02571349, ..., 0.04984265, 0.05722071,\n",
       "        0.06458369],\n",
       "       [0.07826346, 0.20812682, 0.17692651, ..., 0.17820627, 0.17171376,\n",
       "        0.02096532]])"
      ]
     },
     "execution_count": 127,
     "metadata": {},
     "output_type": "execute_result"
    }
   ],
   "source": [
    "matrix * sigmas.reshape(-1, 1)"
   ]
  },
  {
   "cell_type": "markdown",
   "id": "276653eb",
   "metadata": {},
   "source": [
    "These two operations demonstrate left multiplication by a diagonal matrix. `np.diag(sigmas) @ matrix` explicitly creates and multiplies the diagonal matrix, while `matrix * sigmas.reshape(-1, 1)` achieves the same result using broadcasting. Reshaping `sigmas` to a column vector allows element-wise multiplication across all rows of `matrix`, which is more efficient for large matrices."
   ]
  },
  {
   "cell_type": "code",
   "execution_count": 128,
   "id": "f78b98d6",
   "metadata": {},
   "outputs": [
    {
     "data": {
      "text/plain": [
       "array([-1, -3,  2, 10, -5,  4])"
      ]
     },
     "execution_count": 128,
     "metadata": {},
     "output_type": "execute_result"
    }
   ],
   "source": [
    "numbers = np.array([1, 3, 2, 10, 5, 4])\n",
    "new_numbers = np.where(numbers % 2 == 1, -numbers, numbers)\n",
    "new_numbers"
   ]
  },
  {
   "cell_type": "markdown",
   "id": "be2a1881",
   "metadata": {},
   "source": [
    "### Getting indices that satisfy the condition"
   ]
  },
  {
   "cell_type": "markdown",
   "id": "f54d5688",
   "metadata": {},
   "source": [
    "The `np.where()` function discussed above can be invoked with a single argument. In this case it returns indices of elements that satisfy the condition and is equivalent to `nonzero`"
   ]
  },
  {
   "cell_type": "code",
   "execution_count": 129,
   "id": "2f9cf890",
   "metadata": {},
   "outputs": [
    {
     "data": {
      "text/plain": [
       "(array([0, 1, 4]),)"
      ]
     },
     "execution_count": 129,
     "metadata": {},
     "output_type": "execute_result"
    }
   ],
   "source": [
    "np.where(numbers % 2 == 1)"
   ]
  },
  {
   "cell_type": "code",
   "execution_count": 130,
   "id": "da56ac4b",
   "metadata": {},
   "outputs": [
    {
     "data": {
      "text/plain": [
       "(array([0, 1, 4]),)"
      ]
     },
     "execution_count": 130,
     "metadata": {},
     "output_type": "execute_result"
    }
   ],
   "source": [
    "(numbers % 2 == 1).nonzero()"
   ]
  },
  {
   "cell_type": "markdown",
   "id": "05f59f13",
   "metadata": {},
   "source": [
    "For multi-dimensional arrays, `nonzero()` returns a tuple of arrays, one for each dimension. Each array in the tuple contains the indices of the True elements along that dimension. In this example, the first array represents the row indices, and the second array represents the column indices of the True elements in the 2D boolean array."
   ]
  },
  {
   "cell_type": "code",
   "execution_count": 131,
   "id": "88a4c7df",
   "metadata": {},
   "outputs": [
    {
     "data": {
      "text/plain": [
       "(array([0, 1, 1]), array([0, 1, 2]))"
      ]
     },
     "execution_count": 131,
     "metadata": {},
     "output_type": "execute_result"
    }
   ],
   "source": [
    "np.array([[True, False, False], [False, True, True]]).nonzero()"
   ]
  },
  {
   "cell_type": "markdown",
   "id": "98565214",
   "metadata": {
    "lines_to_next_cell": 2
   },
   "source": [
    "That's all for today!"
   ]
  }
 ],
 "metadata": {
  "jupytext": {
   "cell_metadata_filter": "-all",
   "main_language": "python",
   "notebook_metadata_filter": "-all"
  },
  "kernelspec": {
   "display_name": "scientific-computing-2024-lesson01",
   "language": "python",
   "name": "python3"
  },
  "language_info": {
   "codemirror_mode": {
    "name": "ipython",
    "version": 3
   },
   "file_extension": ".py",
   "mimetype": "text/x-python",
   "name": "python",
   "nbconvert_exporter": "python",
   "pygments_lexer": "ipython3",
   "version": "3.11.9"
  }
 },
 "nbformat": 4,
 "nbformat_minor": 5
}
