{
 "cells": [
  {
   "cell_type": "markdown",
   "metadata": {},
   "source": [
    "## Scientific Computing\n",
    "### Assignment 2: NumPy\n",
    "\n",
    "[Software, Data and\n",
    "Technology](https://lp.jetbrains.com/software-data-and-technology-constructor-university/) bachelor program at [Constructor\n",
    "University](https://constructor.university) (Bremen).\n",
    "\n",
    "In all tasks, the word \"array\" refers to an object of type `np.ndarray`. Unless otherwise specified, it is forbidden to use loops and list comprehensions!\n",
    "\n",
    "_Tasks 1, 6, 7 are adapted from HW№2 of [this course](http://wiki.cs.hse.ru/Машинное_обучение_на_матфаке_2018/2019), compiled by Evgeny Kovalev based on materials from the Faculty of Computer Science at the HSE University._"
   ]
  },
  {
   "cell_type": "code",
   "execution_count": 1,
   "metadata": {},
   "outputs": [],
   "source": [
    "import numpy as np"
   ]
  },
  {
   "cell_type": "markdown",
   "metadata": {},
   "source": [
    "### Task 1 (1 point)\n",
    "\n",
    "Write a function `closest_value(array, value)` that calculates the closest and the farthest numbers to the given value in the given array of numbers. For example, if the input is an array `array([0, 1, 2, 3, 4])` and the number `1.33`, the answer will be `(1, 4)`.\n",
    "\n",
    "**Hint**. You will find the function `np.argmin()` or the method `.argmin()` useful, as well as the function `np.abs()`, which allows you to quickly take the element-wise absolute value."
   ]
  },
  {
   "cell_type": "code",
   "execution_count": 2,
   "metadata": {},
   "outputs": [],
   "source": [
    "def closest_value(arr, target):\n",
    "    dists = np.abs(arr - target)\n",
    "    minidx = dists.argmin()\n",
    "    maxidx = dists.argmax()\n",
    "    return arr[minidx], arr[maxidx]"
   ]
  },
  {
   "cell_type": "code",
   "execution_count": 3,
   "metadata": {},
   "outputs": [
    {
     "name": "stdout",
     "output_type": "stream",
     "text": [
      "Task 1 passed\n"
     ]
    }
   ],
   "source": [
    "assert closest_value(np.array([0, 1, 2, 3, 4]), 1.33) == (1, 4)\n",
    "assert closest_value(np.array([0]), 0) == (0, 0)\n",
    "assert closest_value(np.array([1, 1.1, 1.11, 1.111, 1.1111]), 100) == (1.1111, 1)\n",
    "assert closest_value(np.array([-100, 400, 100500]), 0) == (-100, 100500)\n",
    "print(\"Task 1 passed\")"
   ]
  },
  {
   "cell_type": "markdown",
   "metadata": {},
   "source": [
    "### Task 2 (1 point)\n",
    "Write a function `wipe_even(arr, target_value, in_place)` that takes as input an array of integers `arr`, and returns an array obtained from `arr` by replacing all even elements with `target_value`. If `target_value` is not specified, it should be considered equal to 0. If the parameter `in_place` is specified and is `True`, then the function should modify the original array, and if it's not specified or set to `False`, it should keep the original array unchanged (but return a modified version according to the condition)."
   ]
  },
  {
   "cell_type": "code",
   "execution_count": 4,
   "metadata": {},
   "outputs": [],
   "source": [
    "def wipe_even(arr, target = 0, in_place = False):\n",
    "    if not in_place:\n",
    "        arr = arr.copy()\n",
    "    arr[arr % 2 == 0] = target\n",
    "    return arr"
   ]
  },
  {
   "cell_type": "code",
   "execution_count": 5,
   "metadata": {},
   "outputs": [
    {
     "name": "stdout",
     "output_type": "stream",
     "text": [
      "Task 2 passed\n"
     ]
    }
   ],
   "source": [
    "from timeit import timeit\n",
    "import numpy as np\n",
    "\n",
    "def test(inp, outp, target=0, in_place=False):\n",
    "    inp = np.array(inp)\n",
    "    inp_backup = np.array(inp)\n",
    "\n",
    "    q = wipe_even(inp, target, in_place)\n",
    "    assert isinstance(q, np.ndarray), \"Function should return a numpy array (np.array)\"\n",
    "    assert np.array_equal(q, np.array(outp)), \"Error for input list \"+str(np.array(inp))\n",
    "    if in_place:\n",
    "        assert np.array_equal(inp, np.array(outp)), \"Function should modify the original list\"\n",
    "    else:\n",
    "        assert np.array_equal(inp, inp_backup), \"Original list should remain unchanged\"\n",
    "\n",
    "test([1, 2, 3, 4, 5], [1, 0, 3, 0, 5], in_place=True)\n",
    "test([], [], in_place=True)\n",
    "test([1, 3, 5], [1, 3, 5], in_place=True)\n",
    "test([5, 4, 3, 2, 0], [5, 0, 3, 0, 0], in_place=True)\n",
    "test([100, 200, 300, 199, 299, 150], [0, 0, 0,  199, 299, 0], in_place=True)\n",
    "\n",
    "test([1, 2, 3, 4, 5], [1, 99, 3, 99, 5], target = 99, in_place=True)\n",
    "\n",
    "N = 100000\n",
    "benchmark = timeit(\"[0 if x*2 else x for x in np.array([1]*N)]\", \n",
    "                   \"from __main__ import np, N\", number=1)\n",
    "otherbenchmark = timeit(\"wipe_even(np.array([1]*N), in_place=True)\", \n",
    "                        \"from __main__ import np, N, wipe_even\", number=1)\n",
    "assert benchmark > otherbenchmark*1.5, \"The code works too slowly — are you sure you didn't use loops?\"\n",
    "print(\"Task 2 passed\")"
   ]
  },
  {
   "cell_type": "markdown",
   "metadata": {},
   "source": [
    "### Task 3 (1 point)\n",
    "Write a function `is_increasing_np(arr)` that checks if the array `arr` is strictly increasing. You are not allowed to use sorting.\n",
    "\n",
    "**Hint.** You will find function `np.all()` or method `np.ndarray.all()` useful."
   ]
  },
  {
   "cell_type": "code",
   "execution_count": 6,
   "metadata": {},
   "outputs": [],
   "source": [
    "def is_increasing_np(arr):\n",
    "    return np.all(np.diff(arr) > 0)"
   ]
  },
  {
   "cell_type": "code",
   "execution_count": 7,
   "metadata": {},
   "outputs": [
    {
     "name": "stdout",
     "output_type": "stream",
     "text": [
      "Task 3 passed\n"
     ]
    }
   ],
   "source": [
    "def _is_increasing(arr):\n",
    "    return is_increasing_np(np.array(arr))\n",
    "\n",
    "assert _is_increasing([1, 2, 3, 4, 5])\n",
    "assert _is_increasing([1, 10, 15, 16, 17])\n",
    "assert _is_increasing([5])\n",
    "assert not _is_increasing([5, 5])\n",
    "assert not _is_increasing([5, 6, 7, 7])\n",
    "assert not _is_increasing([5, 6, 7, 8, 7])\n",
    "assert not _is_increasing([2, 1, 5, 6])\n",
    "\n",
    "assert not _is_increasing([1, 1])\n",
    "\n",
    "assert not _is_increasing([1, 2, 3, 3])\n",
    "assert _is_increasing(list(range(10000)))\n",
    "assert not _is_increasing([3, 2, 3])\n",
    "print(\"Task 3 passed\")"
   ]
  },
  {
   "cell_type": "markdown",
   "metadata": {},
   "source": [
    "### Task 4 (1 point)\n",
    "Write a function `weighted_sum(weights, grades, normalize)` that returns the weighted sum of grades stored in the `grades` array, according to the weights stored in the `weights` array. For example, for `weights = np.array([0.3, 0.3, 0.4])` and `grades = np.array([7, 9, 8])`, the function should return the number $0.3\\times 7+0.3\\times 9+0.4\\times 8=8.0$.\n",
    "\n",
    "If the `normalize` parameter is set to `True`, and the sum of all weights is not equal to 1, then all weights should be multiplied by the same number so that their sum equals 1. Otherwise, the weights should be used \"as is\", even if their sum is not equal to 1. If the function is called without specifying the `normalize` parameter, it should be assumed that `normalize = False`."
   ]
  },
  {
   "cell_type": "code",
   "execution_count": 8,
   "metadata": {},
   "outputs": [],
   "source": [
    "def weighted_sum(weights, grades, normalize = False):\n",
    "    if normalize:\n",
    "        weights = weights / np.sum(weights)\n",
    "    return np.sum(weights * grades)"
   ]
  },
  {
   "cell_type": "code",
   "execution_count": 9,
   "metadata": {},
   "outputs": [],
   "source": [
    "from timeit import timeit\n",
    "import numpy as np\n",
    "\n",
    "def test(w, g, out, normalize = False):\n",
    "    q = weighted_sum(np.array(w), np.array(g), normalize)\n",
    "    assert np.isclose(q, out)\n",
    "\n",
    "test([0.3, 0.3, 0.4], [7, 9, 8], 8)\n",
    "test([0.1, 0.2, 0.3, 0.4], [1, 5, 3, 2], 2.8)\n",
    "test([1, 2, 3, 4], [1, 5, 3, 2], 28)\n",
    "test([1, 2, 3, 4], [1, 5, 3, 2], 2.8, normalize=True)"
   ]
  },
  {
   "cell_type": "code",
   "execution_count": 10,
   "metadata": {},
   "outputs": [
    {
     "name": "stdout",
     "output_type": "stream",
     "text": [
      "Task 4 passed\n"
     ]
    }
   ],
   "source": [
    "N = 1000000\n",
    "\n",
    "test([1, 2, 3, 4], [1, 5, 3, 2], 28)\n",
    "\n",
    "benchmark = timeit(\"sum([x/x for x in np.array([1]*N)])\", \"from __main__ import N, np\", number=1)\n",
    "otherbenchmark = timeit(\"weighted_sum(np.array([1.1]*N), np.array([1]*N), True)\", \n",
    "                        \"from __main__ import N, weighted_sum, np\", number=1)\n",
    "assert benchmark > otherbenchmark*1.4, \"The code works too slowly — are you sure you used numpy methods?\"\n",
    "\n",
    "print(\"Task 4 passed\")"
   ]
  },
  {
   "cell_type": "markdown",
   "metadata": {},
   "source": [
    "### Task 5 (1 point)\n",
    "Write a function `find_max(matrix)` that takes a matrix `matrix` as input and returns an array whose elements are the maximum values of the columns of `matrix`. (Hint: various NumPy functions take `axis` argument.)"
   ]
  },
  {
   "cell_type": "code",
   "execution_count": 11,
   "metadata": {},
   "outputs": [],
   "source": [
    "def find_max(matrix):\n",
    "    return matrix.max(axis=0)"
   ]
  },
  {
   "cell_type": "code",
   "execution_count": 12,
   "metadata": {},
   "outputs": [
    {
     "name": "stdout",
     "output_type": "stream",
     "text": [
      "Task 5 passed\n"
     ]
    }
   ],
   "source": [
    "assert (find_max(np.array([[9, 9, 4], [8, 8, 1], [5, 3, 6], [3, 3, 3], [2, 1, 9]])) == np.array([9, 9, 9])).all()\n",
    "assert (find_max(np.array([[0, 1, 2], [3, 4, 5], [6, 7, 8]])) == np.array([6, 7, 8])).all()\n",
    "assert (find_max(np.array([[0, 1, 2], [3, 0, 5], [6, 7, 1]])) == np.array([6, 7, 5])).all()\n",
    "assert (find_max(np.array([[-10, 1, 2, 5], [3, 30, 5, 17], [-100, -100, -100, 100], [1, 1, 2, -80]])) == \n",
    "        np.array([3, 30, 5, 100])).all()\n",
    "assert (find_max(np.array([[1]])) == np.array([1])).all()\n",
    "\n",
    "print(\"Task 5 passed\")"
   ]
  },
  {
   "cell_type": "markdown",
   "metadata": {},
   "source": [
    "### Task 6 (1 point)\n",
    "\n",
    "Write a function `diag_prod(matrix)` that calculates the product of all non-zero diagonal elements on the diagonal of a given square matrix. For example, if the input matrix is\n",
    "$$\n",
    "\\begin{pmatrix}\n",
    "0 & 1 & 2\\\\\n",
    "3 & 4 & 5\\\\\n",
    "6 & 7 & 8\\\\\n",
    "\\end{pmatrix},\n",
    "$$\n",
    "then the answer will be 32. It is guaranteed that there will be at least one non-zero element on the diagonal of the matrix.\n",
    "\n",
    "**Hint.** Functions that may be useful in solving: `np.diag()`, `np.prod()`"
   ]
  },
  {
   "cell_type": "code",
   "execution_count": 13,
   "metadata": {},
   "outputs": [],
   "source": [
    "def diag_prod(matrix):\n",
    "    diag = np.diag(matrix)\n",
    "    return np.prod(diag, where = diag != 0)"
   ]
  },
  {
   "cell_type": "code",
   "execution_count": 14,
   "metadata": {},
   "outputs": [
    {
     "name": "stdout",
     "output_type": "stream",
     "text": [
      "Task 6 passed\n"
     ]
    }
   ],
   "source": [
    "assert diag_prod(np.array([[0, 1, 2], [3, 4, 5], [6, 7, 8]])) == 32\n",
    "assert diag_prod(np.array([[0, 1, 2], [3, 0, 5], [6, 7, 1]])) == 1\n",
    "assert diag_prod(np.array([[-10, 1, 2, 5], [3, 30, 5, 17], [-100, -100, -100, 100], [1, 1, 2, -80]])) == -2400000\n",
    "assert diag_prod(np.array([[1]])) == 1\n",
    "\n",
    "print(\"Task 6 passed\")"
   ]
  },
  {
   "cell_type": "markdown",
   "metadata": {},
   "source": [
    "### Task 7 (1 point)\n",
    "\n",
    "Write a function `make_symmetric(matrix)` that makes the given [triangular matrix](https://en.wikipedia.org/wiki/Triangular_matrix) symmetric. For example, if the input matrix is\n",
    "$$\n",
    "\\begin{pmatrix}\n",
    "1 & 2 & 3 & 4\\\\\n",
    "0 & 5 & 6 & 7\\\\\n",
    "0 & 0 & 8 & 9\\\\\n",
    "0 & 0 & 0 & 10\\\\\n",
    "\\end{pmatrix},\n",
    "$$\n",
    "then the output should be the matrix\n",
    "$$\n",
    "\\begin{pmatrix}\n",
    "1 & 2 & 3 & 4\\\\\n",
    "2 & 5 & 6 & 7\\\\\n",
    "3 & 6 & 8 & 9\\\\\n",
    "4 & 7 & 9 & 10\\\\\n",
    "\\end{pmatrix}.\n",
    "$$\n",
    "**Hint.** `np.diag` can not only get the diagonal from an existing matrix but also create a matrix with a given diagonal."
   ]
  },
  {
   "cell_type": "code",
   "execution_count": 15,
   "metadata": {},
   "outputs": [],
   "source": [
    "def make_symmetric(matrix):\n",
    "    return matrix + matrix.T - np.diag(np.diag(matrix))"
   ]
  },
  {
   "cell_type": "code",
   "execution_count": 16,
   "metadata": {},
   "outputs": [
    {
     "name": "stdout",
     "output_type": "stream",
     "text": [
      "Task 7 passed\n"
     ]
    }
   ],
   "source": [
    "assert (make_symmetric(np.array([[1, 2, 3, 4], [0, 5, 6, 7], [0, 0, 8, 9], [0, 0, 0, 10]])) ==\n",
    "        np.array([[1, 2, 3, 4], [2, 5, 6, 7], [3, 6, 8, 9], [4, 7, 9, 10]])).all()\n",
    "assert (make_symmetric(np.array([[0, 0, 0, 0], [0, 9, 8, 0], [0, 0, -100, -1000], [0, 0, 0, 999]])) ==\n",
    "        np.array([[0, 0, 0, 0], [0, 9, 8, 0], [0, 8, -100, -1000], [0, 0, -1000, 999]])).all()\n",
    "assert (make_symmetric(np.array([[1]])) == np.array([[1]])).all()\n",
    "print(\"Task 7 passed\")"
   ]
  },
  {
   "cell_type": "markdown",
   "metadata": {},
   "source": [
    "### Task 8 (1 point)\n",
    "Write a function `mean_by_group(grades, groups)` that takes as input two arrays of the same length: the `grades` array contains the grades of some students, and the `groups` array contains their group as strings `A` or `B`. The function should return a dictionary where the keys are the strings `A` and `B`, and the values are the arithmetic mean of the grades for students of the corresponding group.\n",
    "\n",
    "For example, if `grades = np.array([5, 4, 3, 5, 2])` and `groups = np.array([\"B\", \"A\", \"A\", \"B\", \"A\"])`, the function should return the dictionary `{'A': 3.0, 'B': 5.0}`.\n",
    "\n",
    "**Hint.** For quick calculation of the mean, there is the `np.mean()` function or the corresponding method for objects of type `numpy.ndarray`."
   ]
  },
  {
   "cell_type": "code",
   "execution_count": 17,
   "metadata": {},
   "outputs": [],
   "source": [
    "def mean_by_group(grades, groups):\n",
    "    labels = np.unique(groups)\n",
    "    return {label: grades[groups == label].mean() for label in labels}"
   ]
  },
  {
   "cell_type": "code",
   "execution_count": 18,
   "metadata": {},
   "outputs": [
    {
     "name": "stdout",
     "output_type": "stream",
     "text": [
      "Task 8 passed\n"
     ]
    }
   ],
   "source": [
    "from timeit import timeit\n",
    "import numpy as np\n",
    "\n",
    "def test(grades, groups, outp):\n",
    "    ret = mean_by_group(np.array(grades), np.array(groups))\n",
    "    assert np.isclose(ret['A'], outp['A'])\n",
    "    assert np.isclose(ret['B'], outp['B'])\n",
    "\n",
    "test([5, 4, 3, 5, 2], [\"B\", \"A\", \"A\", \"B\", \"A\"], {'A': 3.0, 'B': 5.0})\n",
    "test([1, 0]*10, ['B', 'A']*10, {'B': 1, 'A': 0})\n",
    "test(range(100), ['B', 'A']* 50, {'B': 49.0, 'A': 50.0})\n",
    "test(list(range(100))+[100], ['A']*100+['B'], {'A':49.5, 'B': 100.0})\n",
    "\n",
    "def benchmark_test(a, b):\n",
    "    xx = 0\n",
    "    yy = 0\n",
    "    im = 0\n",
    "    fi = 0\n",
    "    for x, y in zip(a, b):\n",
    "        if x != y:\n",
    "            xx += x\n",
    "            yy += x\n",
    "            im += 1\n",
    "            fi += 1\n",
    "\n",
    "    return xx+yy\n",
    "\n",
    "N = int(1E5)\n",
    "grades = np.array([1.1]*N + [2.2]*N)\n",
    "groups = np.array(['A']*N + ['B']*N)\n",
    "\n",
    "benchmark = timeit(\"assert np.isclose(mean_by_group(grades, groups)['A'], 1.1)\",\n",
    "                   \"from __main__ import np, mean_by_group, grades, groups\",\n",
    "                   number=1)\n",
    "reference_benchmark = timeit(\"benchmark_test(grades, groups)\",\n",
    "                             \"from __main__ import benchmark_test, grades, groups\",\n",
    "                             number=1)\n",
    "\n",
    "assert reference_benchmark > benchmark * 10, \"The code works too slowly - are you sure you used numpy methods?\"\n",
    "\n",
    "print(\"Task 8 passed\")"
   ]
  },
  {
   "cell_type": "markdown",
   "metadata": {},
   "source": [
    "### Task 9 (2 points)\n",
    "\n",
    "In a certain kingdom, in a certain state, the personal income tax is calculated as follows. The basic tax rate is 13%. (It's a fairy tail, so it's unrealistically low.) If in any month your earnings for the year exceed one thousand tugrics, then for the rest of the year (not including that month) a rate of 20% is established. For example, if you earn 150 tugrics every month, then by July you will have earned $150\\times 7 = 1050$ tugrics and starting from August, income tax will be charged at a rate of 20%. Write a function `calculate_tax(income)` that takes as input an array containing income for each month of the year, starting from the first, and returns the total amount of tax to be paid for the year. The year in a certain kingdom can last more than 12 months if a corresponding highest decree is adopted on this matter.\n",
    "\n",
    "**Hint.** The functions `np.cumsum()` and `np.where()` will help you.\n",
    "\n",
    "In this task, you can use `if` exactly once."
   ]
  },
  {
   "cell_type": "code",
   "execution_count": 35,
   "metadata": {},
   "outputs": [],
   "source": [
    "def calculate_tax(income, threshold=1000, low_rate=0.13, high_rate=0.2):\n",
    "    (indicies,) = (np.cumsum(income) > threshold).nonzero()\n",
    "    since = income.size if indicies.size == 0 else indicies[0] + 1\n",
    "    return np.sum(income[:since]) * low_rate + np.sum(income[since:]) * high_rate"
   ]
  },
  {
   "cell_type": "code",
   "execution_count": 36,
   "metadata": {},
   "outputs": [],
   "source": [
    "from timeit import timeit\n",
    "import numpy as np\n",
    "\n",
    "assert np.isclose(calculate_tax(np.array([150]*12)), 286.5)\n",
    "assert np.isclose(calculate_tax(np.array([100]*12)), 163)\n",
    "assert np.isclose(calculate_tax(np.array([50]*12)), 78)\n",
    "assert np.isclose(calculate_tax(np.array([1000]*12)), 2260)\n",
    "\n",
    "assert np.isclose(calculate_tax(np.array(range(12))*100), 1215)\n",
    "assert np.isclose(calculate_tax(np.array(range(11,-1,-1))*100), 1243)"
   ]
  },
  {
   "cell_type": "code",
   "execution_count": 37,
   "metadata": {},
   "outputs": [
    {
     "name": "stdout",
     "output_type": "stream",
     "text": [
      "Task 9 passed\n"
     ]
    }
   ],
   "source": [
    "def dummy(x):\n",
    "    z = 0\n",
    "    for y in x:\n",
    "        z += y\n",
    "        z += y*0.12\n",
    "        if z:\n",
    "            z += y\n",
    "    return z\n",
    "\n",
    "assert np.isclose(calculate_tax(np.array(range(12))*100), 1215)\n",
    "\n",
    "N = int(1E6)\n",
    "arr = np.array([1]*N)\n",
    "benchmark = timeit(\"calculate_tax(arr)\", \"from __main__ import calculate_tax, arr\", number=1)\n",
    "reference_benchmark = timeit(\"dummy(arr)\", \"from __main__ import dummy, arr\", number=1)\n",
    "\n",
    "assert reference_benchmark > benchmark*5, \"The code is running too slowly - are you sure you used numpy methods?\"\n",
    "\n",
    "print(\"Task 9 passed\")"
   ]
  },
  {
   "cell_type": "markdown",
   "metadata": {},
   "source": [
    "\n",
    "### Task 10 (1 point)\n",
    "\n",
    "In machine learning tasks, it is often necessary to normalize data before using it. Let's say the variable `X` contains a two-dimensional `np.array`, where different objects are recorded in rows and features in columns. You need to write a function `normalize(X)` that takes the array `X` as input and normalizes all variables so that their mean is 0 and standard deviation is 1. In other words, for each column, you need to subtract the mean of that column from all elements and divide the result by the standard deviation of that column. More formally: if $X=(x_{ij})$ is our matrix, $x_{ij}$ is the element in its $i$-th row and $j$-th column, and $x_{\\cdot j}$ is the $j$-th column, then in the new matrix, the element in the $i$-th row and $j$-th column will be:\n",
    "\n",
    "$$\\widehat{x}_{ij}=\\frac{x_{ij}-\\overline{x_{\\cdot j}}}{\\sigma_{x_{\\cdot j}}},$$\n",
    "where $\\overline{x_{\\cdot j}}$ is the sample mean (arithmetic mean) of all elements in the $j$-th column, $\\sigma_{x_{\\cdot j}}$ is the standard deviation of all elements in the $j$-th column.\n",
    "\n",
    "**Hint:** You can calculate the mean using the `.mean()` method and the standard deviation using `.std()`.  The task can be solved in one line."
   ]
  },
  {
   "cell_type": "code",
   "execution_count": 38,
   "metadata": {},
   "outputs": [],
   "source": [
    "def normalize(X):\n",
    "    return (X - X.mean(axis=0)) / X.std(axis=0)"
   ]
  },
  {
   "cell_type": "code",
   "execution_count": 39,
   "metadata": {},
   "outputs": [
    {
     "name": "stdout",
     "output_type": "stream",
     "text": [
      "Task 10 passed\n"
     ]
    }
   ],
   "source": [
    "assert np.isclose(normalize(np.array([[ 1.00766597, -1.1201796 ,  2.47274732, -0.33619288,  1.50555214],\n",
    "       [ 1.48986823,  0.80894409,  0.55980545,  0.67813423, -0.3187493 ]])), np.array([[-1., -1.,  1., -1.,  1.],\n",
    "       [ 1.,  1., -1.,  1., -1.]])).all()\n",
    "assert np.isclose(normalize(np.array([[-0.98607026],\n",
    "       [ 1.93312384],\n",
    "       [-0.99905497],\n",
    "       [-0.95934573],\n",
    "       [ 0.05295053]])), np.array([[-0.69959273],\n",
    "       [ 1.87124093],\n",
    "       [-0.71102792],\n",
    "       [-0.67605736],\n",
    "       [ 0.21543708]])).all()\n",
    "assert np.isclose(normalize(np.array([[-1.63419424],\n",
    "       [ 0.39451389],\n",
    "       [-0.11346483],\n",
    "       [ 0.56117231],\n",
    "       [ 0.35460207],\n",
    "       [ 1.50836012],\n",
    "       [ 0.5176692 ],\n",
    "       [-1.20605276],\n",
    "       [ 0.7904588 ],\n",
    "       [ 1.28349441]])), np.array([[-1.9874883 ],\n",
    "       [ 0.15738144],\n",
    "       [-0.37968359],\n",
    "       [ 0.33358254],\n",
    "       [ 0.11518431],\n",
    "       [ 1.33500529],\n",
    "       [ 0.28758849],\n",
    "       [-1.53483191],\n",
    "       [ 0.57599773],\n",
    "       [ 1.09726401]])).all()\n",
    "assert np.isclose(normalize(np.array([[-1.31158329,  2.5954087 , -1.01662736, -0.27565263,  0.52639556,\n",
    "         0.58218805, -0.35961103,  0.31096071,  0.52193677, -0.41754881],\n",
    "       [-0.19218836, -0.03416295,  0.80408723, -1.18733572,  0.14422448,\n",
    "         0.6091103 ,  0.67617586,  0.17732224,  0.99660189, -0.07798097]])), np.array([[-1.,  1., -1.,  1.,  1., -1., -1.,  1., -1., -1.],\n",
    "       [ 1., -1.,  1., -1., -1.,  1.,  1., -1.,  1.,  1.]])).all()\n",
    "assert np.isclose(normalize(np.array([[-0.28368534, -0.90928588, -1.35180963],\n",
    "       [ 1.30199557,  1.32081835,  1.11951334]])), np.array([[-1., -1., -1.],\n",
    "       [ 1.,  1.,  1.]])).all()\n",
    "assert np.isclose(normalize(np.array([[-0.34089722,  0.93727935],\n",
    "       [ 0.14410815, -0.96321317],\n",
    "       [-1.98355493, -0.0310602 ]])), np.array([[ 0.42383229,  1.23244371],\n",
    "       [ 0.95653353, -1.21689804],\n",
    "       [-1.38036582, -0.01554567]])).all()\n",
    "assert np.isclose(normalize(np.array([[ 1.53033913,  0.05456373,  0.22504087, -1.16687133, -0.23619502],\n",
    "       [-0.81477156,  1.96405223, -1.5506048 , -2.08082958, -0.23459537],\n",
    "       [-0.80961303, -0.55950949, -1.07953561,  0.571387  , -1.03341414],\n",
    "       [ 0.10526012, -2.06172783, -1.1661957 , -1.00297227, -1.02432731],\n",
    "       [ 0.04661   , -0.21104596, -0.84339233,  0.22806353, -0.34655384]])), np.array([[ 1.77181211,  0.16828692,  1.84979571, -0.49193269,  0.90886342],\n",
    "       [-0.96400966,  1.64710001, -1.11468608, -1.43524085,  0.91315434],\n",
    "       [-0.95799169, -0.30728521, -0.32822509,  1.30214625, -1.22961355],\n",
    "       [ 0.10930543, -1.47068586, -0.47290614, -0.32277035, -1.20523884],\n",
    "       [ 0.04088381, -0.03741586,  0.0660216 ,  0.94779764,  0.61283463]])).all()\n",
    "\n",
    "print(\"Task 10 passed\")"
   ]
  },
  {
   "cell_type": "markdown",
   "metadata": {},
   "source": [
    "### Task 11 (2 points)\n",
    "In a two-dimensional array `scores`, the scores of several students are recorded, with each row representing a student and each column representing a homework assignment. There is also an array `max_scores`, which contains as many elements as there are columns in `scores`: it lists the maximum number of points that could be earned for the corresponding homework assignment. Theoretically, a student could solve problems for more points, but points earned above the maximum are not counted. The grade for a homework assignment is a floating-point number from 0 to 10 and is determined as *points earned / maximum number of points × 10*. For example, if the maximum number of points for a homework assignment is 8, and a student earned 4 points for it, then the grade is *4/8×10=5*. And if they had earned 12 points, only 8 points would be counted, and the grade would be 10. The course grade is calculated as the arithmetic mean of all homework grades, rounded to the nearest integer using the `np.round` function. Write a function `get_grades(scores, max_scores)` that returns an array of final grades."
   ]
  },
  {
   "cell_type": "code",
   "execution_count": 45,
   "metadata": {},
   "outputs": [],
   "source": [
    "def get_grades(scores, max_scores):\n",
    "    results = scores / max_scores\n",
    "    np.clip(results, 0, 1, out=results)\n",
    "    return np.round(np.mean(results * 10, axis=1))"
   ]
  },
  {
   "cell_type": "code",
   "execution_count": 47,
   "metadata": {},
   "outputs": [
    {
     "name": "stdout",
     "output_type": "stream",
     "text": [
      "Task 11 passed\n"
     ]
    }
   ],
   "source": [
    "assert np.isclose(get_grades(np.array([[1, 2],\n",
    "       [3, 4],\n",
    "       [5, 6]]), np.array([1, 1])), np.array([ 10.,  10.,  10.])).all()\n",
    "assert np.isclose(get_grades(np.array([[1, 2],\n",
    "       [3, 4],\n",
    "       [5, 6]]), np.array([1, 2])), np.array([ 10.,  10.,  10.])).all()\n",
    "assert np.isclose(get_grades(np.array([[1, 2],\n",
    "       [3, 4],\n",
    "       [5, 6]]), np.array([1, 3])), np.array([  8.,  10.,  10.])).all()\n",
    "assert np.isclose(get_grades(np.array([[1, 2],\n",
    "       [3, 4],\n",
    "       [5, 6]]), np.array([1, 6])), np.array([  7.,   8.,  10.])).all()\n",
    "assert np.isclose(get_grades(np.array([[1, 2],\n",
    "       [3, 4],\n",
    "       [5, 6]]), np.array([ 1, 10])), np.array([ 6.,  7.,  8.])).all()\n",
    "assert np.isclose(get_grades(np.array([[1, 2],\n",
    "       [3, 4],\n",
    "       [5, 6]]), np.array([2, 1])), np.array([  8.,  10.,  10.])).all()\n",
    "assert np.isclose(get_grades(np.array([[1, 2],\n",
    "       [3, 4],\n",
    "       [5, 6]]), np.array([2, 2])), np.array([  8.,  10.,  10.])).all()\n",
    "assert np.isclose(get_grades(np.array([[1, 2],\n",
    "       [3, 4],\n",
    "       [5, 6]]), np.array([2, 3])), np.array([  6.,  10.,  10.])).all()\n",
    "assert np.isclose(get_grades(np.array([[1, 2],\n",
    "       [3, 4],\n",
    "       [5, 6]]), np.array([2, 6])), np.array([  4.,   8.,  10.])).all()\n",
    "assert np.isclose(get_grades(np.array([[1, 2],\n",
    "       [3, 4],\n",
    "       [5, 6]]), np.array([ 2, 10])), np.array([ 4.,  7.,  8.])).all()\n",
    "assert np.isclose(get_grades(np.array([[1, 2],\n",
    "       [3, 4],\n",
    "       [5, 6]]), np.array([3, 1])), np.array([  7.,  10.,  10.])).all()\n",
    "assert np.isclose(get_grades(np.array([[1, 2],\n",
    "       [3, 4],\n",
    "       [5, 6]]), np.array([3, 2])), np.array([  7.,  10.,  10.])).all()\n",
    "assert np.isclose(get_grades(np.array([[1, 2],\n",
    "       [3, 4],\n",
    "       [5, 6]]), np.array([3, 3])), np.array([  5.,  10.,  10.])).all()\n",
    "assert np.isclose(get_grades(np.array([[1, 2],\n",
    "       [3, 4],\n",
    "       [5, 6]]), np.array([3, 6])), np.array([  3.,   8.,  10.])).all()\n",
    "assert np.isclose(get_grades(np.array([[1, 2],\n",
    "       [3, 4],\n",
    "       [5, 6]]), np.array([ 3, 10])), np.array([ 3.,  7.,  8.])).all()\n",
    "assert np.isclose(get_grades(np.array([[  9.,   9.,  10.],\n",
    "       [  1.,   9.,   0.],\n",
    "       [  1.,   3.,  10.],\n",
    "       [  5.,   5.,   2.],\n",
    "       [  3.,   9.,   3.]]), np.array([ 9.,  9.,  2.])), np.array([ 10.,   4.,   5.,   7.,   8.])).all()\n",
    "assert np.isclose(get_grades(np.array([[  8.,   3.,   5.,  10.,   4.],\n",
    "       [  9.,   0.,   5.,  10.,   6.],\n",
    "       [  0.,   1.,   7.,   2.,   9.]]), np.array([ 9.,  3.,  3.,  2.,  6.])), np.array([ 9.,  8.,  7.])).all()\n",
    "assert np.isclose(get_grades(np.array([[ 6.,  4.,  2.,  7.,  0.],\n",
    "       [ 8.,  1.,  4.,  4.,  8.],\n",
    "       [ 1.,  3.,  5.,  5.,  3.],\n",
    "       [ 2.,  5.,  3.,  4.,  8.],\n",
    "       [ 7.,  0.,  7.,  1.,  8.]]), np.array([ 5.,  5.,  8.,  3.,  8.])), np.array([ 6.,  7.,  6.,  8.,  6.])).all()\n",
    "\n",
    "print(\"Task 11 passed\")"
   ]
  }
 ],
 "metadata": {
  "kernelspec": {
   "display_name": "scientific-computing-2024-lesson01",
   "language": "python",
   "name": "python3"
  },
  "language_info": {
   "codemirror_mode": {
    "name": "ipython",
    "version": 3
   },
   "file_extension": ".py",
   "mimetype": "text/x-python",
   "name": "python",
   "nbconvert_exporter": "python",
   "pygments_lexer": "ipython3",
   "version": "3.12.5"
  }
 },
 "nbformat": 4,
 "nbformat_minor": 2
}
