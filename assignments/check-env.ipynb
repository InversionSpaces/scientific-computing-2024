{
 "cells": [
  {
   "cell_type": "code",
   "execution_count": 1,
   "metadata": {},
   "outputs": [
    {
     "name": "stdout",
     "output_type": "stream",
     "text": [
      "/home/inv/miniconda3/envs/scientific-computing/bin/python\n",
      "/home/inv/miniconda3/envs/scientific-computing\n"
     ]
    }
   ],
   "source": [
    "import sys\n",
    "\n",
    "print(sys.executable)\n",
    "print(sys.prefix)\n"
   ]
  },
  {
   "cell_type": "code",
   "execution_count": 2,
   "metadata": {},
   "outputs": [
    {
     "name": "stdout",
     "output_type": "stream",
     "text": [
      "CONDA_PREFIX: /home/inv/miniconda3/envs/scientific-computing\n"
     ]
    }
   ],
   "source": [
    "import os\n",
    "\n",
    "print(f\"CONDA_PREFIX: {os.environ.get('CONDA_PREFIX', 'Not set')}\")"
   ]
  },
  {
   "cell_type": "code",
   "execution_count": 4,
   "metadata": {},
   "outputs": [
    {
     "name": "stdout",
     "output_type": "stream",
     "text": [
      "\n",
      "     active environment : base\n",
      "    active env location : /home/inv/miniconda3\n",
      "            shell level : 3\n",
      "       user config file : /home/inv/.condarc\n",
      " populated config files : \n",
      "          conda version : 24.7.1\n",
      "    conda-build version : not installed\n",
      "         python version : 3.12.5.final.0\n",
      "                 solver : libmamba (default)\n",
      "       virtual packages : __archspec=1=skylake\n",
      "                          __conda=24.7.1=0\n",
      "                          __glibc=2.35=0\n",
      "                          __linux=6.11.0=0\n",
      "                          __unix=0=0\n",
      "       base environment : /home/inv/miniconda3  (writable)\n",
      "      conda av data dir : /home/inv/miniconda3/etc/conda\n",
      "  conda av metadata url : None\n",
      "           channel URLs : https://repo.anaconda.com/pkgs/main/linux-64\n",
      "                          https://repo.anaconda.com/pkgs/main/noarch\n",
      "                          https://repo.anaconda.com/pkgs/r/linux-64\n",
      "                          https://repo.anaconda.com/pkgs/r/noarch\n",
      "          package cache : /home/inv/miniconda3/pkgs\n",
      "                          /home/inv/.conda/pkgs\n",
      "       envs directories : /home/inv/miniconda3/envs\n",
      "                          /home/inv/.conda/envs\n",
      "               platform : linux-64\n",
      "             user-agent : conda/24.7.1 requests/2.32.3 CPython/3.12.5 Linux/6.11.0-102007-tuxedo tuxedo/22.04 glibc/2.35 solver/libmamba conda-libmamba-solver/24.7.0 libmambapy/1.5.8 aau/0.4.4 c/. s/. e/.\n",
      "                UID:GID : 1000:1001\n",
      "             netrc file : None\n",
      "           offline mode : False\n",
      "\n",
      "\n"
     ]
    }
   ],
   "source": [
    "%conda info"
   ]
  }
 ],
 "metadata": {
  "kernelspec": {
   "display_name": "Python 3 (ipykernel)",
   "language": "python",
   "name": "python3"
  },
  "language_info": {
   "codemirror_mode": {
    "name": "ipython",
    "version": 3
   },
   "file_extension": ".py",
   "mimetype": "text/x-python",
   "name": "python",
   "nbconvert_exporter": "python",
   "pygments_lexer": "ipython3",
   "version": "3.12.5"
  }
 },
 "nbformat": 4,
 "nbformat_minor": 2
}
